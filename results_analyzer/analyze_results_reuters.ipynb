{
 "cells": [
  {
   "cell_type": "code",
   "execution_count": 1,
   "metadata": {},
   "outputs": [],
   "source": [
    "import pandas as pd\n"
   ]
  },
  {
   "cell_type": "code",
   "execution_count": 2,
   "metadata": {},
   "outputs": [],
   "source": [
    "# results achieved by using \"short\" (document) length type dataset\n",
    "filename = 'reu_headline_30Jun.csv'"
   ]
  },
  {
   "cell_type": "code",
   "execution_count": 3,
   "metadata": {},
   "outputs": [
    {
     "data": {
      "text/html": [
       "<div>\n",
       "<style scoped>\n",
       "    .dataframe tbody tr th:only-of-type {\n",
       "        vertical-align: middle;\n",
       "    }\n",
       "\n",
       "    .dataframe tbody tr th {\n",
       "        vertical-align: top;\n",
       "    }\n",
       "\n",
       "    .dataframe thead th {\n",
       "        text-align: right;\n",
       "    }\n",
       "</style>\n",
       "<table border=\"1\" class=\"dataframe\">\n",
       "  <thead>\n",
       "    <tr style=\"text-align: right;\">\n",
       "      <th></th>\n",
       "      <th>Run ID</th>\n",
       "      <th>Name</th>\n",
       "      <th>Source Type</th>\n",
       "      <th>Source Name</th>\n",
       "      <th>User</th>\n",
       "      <th>Status</th>\n",
       "      <th>corpus_name</th>\n",
       "      <th>corpus_type</th>\n",
       "      <th>embedding</th>\n",
       "      <th>fe_type</th>\n",
       "      <th>...</th>\n",
       "      <th>positive_label_in_total</th>\n",
       "      <th>precison/labels</th>\n",
       "      <th>precison/selected_labels</th>\n",
       "      <th>recall/labels</th>\n",
       "      <th>recall/selected_labels</th>\n",
       "      <th>selected_features_count</th>\n",
       "      <th>singleton_clusters_count</th>\n",
       "      <th>tnr/labels</th>\n",
       "      <th>tnr/selected_labels</th>\n",
       "      <th>unassigned_doc_percent</th>\n",
       "    </tr>\n",
       "  </thead>\n",
       "  <tbody>\n",
       "    <tr>\n",
       "      <th>0</th>\n",
       "      <td>915491da793943d1935d86038c1e2608</td>\n",
       "      <td>NaN</td>\n",
       "      <td>LOCAL</td>\n",
       "      <td>/Users/vdixit/SELF_READING/Projects/git/hierar...</td>\n",
       "      <td>vdixit</td>\n",
       "      <td>FINISHED</td>\n",
       "      <td>Reuters-headline</td>\n",
       "      <td>short</td>\n",
       "      <td>sentbert</td>\n",
       "      <td>default</td>\n",
       "      <td>...</td>\n",
       "      <td>89.645</td>\n",
       "      <td>81.5776</td>\n",
       "      <td>81.5776</td>\n",
       "      <td>98.35</td>\n",
       "      <td>98.35</td>\n",
       "      <td>111</td>\n",
       "      <td>157</td>\n",
       "      <td>77.79</td>\n",
       "      <td>77.79</td>\n",
       "      <td>8.088614</td>\n",
       "    </tr>\n",
       "    <tr>\n",
       "      <th>1</th>\n",
       "      <td>ee8849a208574c64a583269835c4d0b0</td>\n",
       "      <td>NaN</td>\n",
       "      <td>LOCAL</td>\n",
       "      <td>/Users/vdixit/SELF_READING/Projects/git/hierar...</td>\n",
       "      <td>vdixit</td>\n",
       "      <td>FINISHED</td>\n",
       "      <td>Reuters-headline</td>\n",
       "      <td>short</td>\n",
       "      <td>sentbert</td>\n",
       "      <td>default</td>\n",
       "      <td>...</td>\n",
       "      <td>89.645</td>\n",
       "      <td>81.5776</td>\n",
       "      <td>81.5776</td>\n",
       "      <td>98.35</td>\n",
       "      <td>98.35</td>\n",
       "      <td>111</td>\n",
       "      <td>157</td>\n",
       "      <td>77.79</td>\n",
       "      <td>77.79</td>\n",
       "      <td>8.088614</td>\n",
       "    </tr>\n",
       "    <tr>\n",
       "      <th>2</th>\n",
       "      <td>361f61269fd449d4966f6080c3189b0d</td>\n",
       "      <td>NaN</td>\n",
       "      <td>LOCAL</td>\n",
       "      <td>/Users/vdixit/SELF_READING/Projects/git/hierar...</td>\n",
       "      <td>vdixit</td>\n",
       "      <td>FINISHED</td>\n",
       "      <td>Reuters-headline</td>\n",
       "      <td>short</td>\n",
       "      <td>sentbert</td>\n",
       "      <td>default</td>\n",
       "      <td>...</td>\n",
       "      <td>89.645</td>\n",
       "      <td>81.5776</td>\n",
       "      <td>81.5776</td>\n",
       "      <td>98.35</td>\n",
       "      <td>98.35</td>\n",
       "      <td>111</td>\n",
       "      <td>157</td>\n",
       "      <td>77.79</td>\n",
       "      <td>77.79</td>\n",
       "      <td>8.088614</td>\n",
       "    </tr>\n",
       "    <tr>\n",
       "      <th>3</th>\n",
       "      <td>0ba324469e904c908c3d2d0c1b508a01</td>\n",
       "      <td>NaN</td>\n",
       "      <td>LOCAL</td>\n",
       "      <td>/Users/vdixit/SELF_READING/Projects/git/hierar...</td>\n",
       "      <td>vdixit</td>\n",
       "      <td>FINISHED</td>\n",
       "      <td>Reuters-headline</td>\n",
       "      <td>short</td>\n",
       "      <td>sentbert</td>\n",
       "      <td>default</td>\n",
       "      <td>...</td>\n",
       "      <td>89.645</td>\n",
       "      <td>81.5776</td>\n",
       "      <td>81.5776</td>\n",
       "      <td>98.35</td>\n",
       "      <td>98.35</td>\n",
       "      <td>111</td>\n",
       "      <td>157</td>\n",
       "      <td>77.79</td>\n",
       "      <td>77.79</td>\n",
       "      <td>8.088614</td>\n",
       "    </tr>\n",
       "    <tr>\n",
       "      <th>4</th>\n",
       "      <td>c462200d950848728a3fede211bce357</td>\n",
       "      <td>NaN</td>\n",
       "      <td>LOCAL</td>\n",
       "      <td>/Users/vdixit/SELF_READING/Projects/git/hierar...</td>\n",
       "      <td>vdixit</td>\n",
       "      <td>FINISHED</td>\n",
       "      <td>Reuters-headline</td>\n",
       "      <td>short</td>\n",
       "      <td>sentbert</td>\n",
       "      <td>default</td>\n",
       "      <td>...</td>\n",
       "      <td>89.645</td>\n",
       "      <td>81.5776</td>\n",
       "      <td>81.5776</td>\n",
       "      <td>98.35</td>\n",
       "      <td>98.35</td>\n",
       "      <td>111</td>\n",
       "      <td>157</td>\n",
       "      <td>77.79</td>\n",
       "      <td>77.79</td>\n",
       "      <td>8.088614</td>\n",
       "    </tr>\n",
       "  </tbody>\n",
       "</table>\n",
       "<p>5 rows × 54 columns</p>\n",
       "</div>"
      ],
      "text/plain": [
       "                             Run ID  Name Source Type  \\\n",
       "0  915491da793943d1935d86038c1e2608   NaN       LOCAL   \n",
       "1  ee8849a208574c64a583269835c4d0b0   NaN       LOCAL   \n",
       "2  361f61269fd449d4966f6080c3189b0d   NaN       LOCAL   \n",
       "3  0ba324469e904c908c3d2d0c1b508a01   NaN       LOCAL   \n",
       "4  c462200d950848728a3fede211bce357   NaN       LOCAL   \n",
       "\n",
       "                                         Source Name    User    Status  \\\n",
       "0  /Users/vdixit/SELF_READING/Projects/git/hierar...  vdixit  FINISHED   \n",
       "1  /Users/vdixit/SELF_READING/Projects/git/hierar...  vdixit  FINISHED   \n",
       "2  /Users/vdixit/SELF_READING/Projects/git/hierar...  vdixit  FINISHED   \n",
       "3  /Users/vdixit/SELF_READING/Projects/git/hierar...  vdixit  FINISHED   \n",
       "4  /Users/vdixit/SELF_READING/Projects/git/hierar...  vdixit  FINISHED   \n",
       "\n",
       "        corpus_name corpus_type embedding  fe_type  ...  \\\n",
       "0  Reuters-headline       short  sentbert  default  ...   \n",
       "1  Reuters-headline       short  sentbert  default  ...   \n",
       "2  Reuters-headline       short  sentbert  default  ...   \n",
       "3  Reuters-headline       short  sentbert  default  ...   \n",
       "4  Reuters-headline       short  sentbert  default  ...   \n",
       "\n",
       "  positive_label_in_total precison/labels precison/selected_labels  \\\n",
       "0                  89.645         81.5776                  81.5776   \n",
       "1                  89.645         81.5776                  81.5776   \n",
       "2                  89.645         81.5776                  81.5776   \n",
       "3                  89.645         81.5776                  81.5776   \n",
       "4                  89.645         81.5776                  81.5776   \n",
       "\n",
       "   recall/labels  recall/selected_labels  selected_features_count  \\\n",
       "0          98.35                   98.35                      111   \n",
       "1          98.35                   98.35                      111   \n",
       "2          98.35                   98.35                      111   \n",
       "3          98.35                   98.35                      111   \n",
       "4          98.35                   98.35                      111   \n",
       "\n",
       "   singleton_clusters_count  tnr/labels  tnr/selected_labels  \\\n",
       "0                       157       77.79                77.79   \n",
       "1                       157       77.79                77.79   \n",
       "2                       157       77.79                77.79   \n",
       "3                       157       77.79                77.79   \n",
       "4                       157       77.79                77.79   \n",
       "\n",
       "   unassigned_doc_percent  \n",
       "0                8.088614  \n",
       "1                8.088614  \n",
       "2                8.088614  \n",
       "3                8.088614  \n",
       "4                8.088614  \n",
       "\n",
       "[5 rows x 54 columns]"
      ]
     },
     "execution_count": 3,
     "metadata": {},
     "output_type": "execute_result"
    }
   ],
   "source": [
    "df = pd.read_csv(filename)\n",
    "df.head()\n"
   ]
  },
  {
   "cell_type": "code",
   "execution_count": 252,
   "metadata": {},
   "outputs": [
    {
     "data": {
      "text/plain": [
       "Index(['embedding', 'fe_type', 'max_features_frac', 'max_labels_per_doc',\n",
       "       'max_overlap_percent', 'neg_pairs/labels', 'neg_pairs/selected_labels',\n",
       "       'num_embedding_passes', 'outlier_threshold', 'pos_pairs/labels',\n",
       "       'pos_pairs/selected_labels', 'total_documents', 'total_pairs/labels',\n",
       "       'total_pairs/selected_labels', 'with_negative_label',\n",
       "       'absent_features/labels', 'absent_features/selected_labels',\n",
       "       'accuracy/labels', 'accuracy/selected_labels', 'assigned_doc_percent',\n",
       "       'clusters_count', 'disconnected_clusters/labels',\n",
       "       'disconnected_clusters/selected_labels', 'embedding_clusters_count',\n",
       "       'embedding_singular_features', 'fscore/labels',\n",
       "       'fscore/selected_labels', 'initial_features', 'noisy_docs',\n",
       "       'outlier_fpr/labels', 'outlier_fpr/selected_labels',\n",
       "       'outlier_precision/labels', 'outlier_precision/selected_labels',\n",
       "       'outlier_predicted/labels', 'outlier_predicted/selected_labels',\n",
       "       'positive_label_in_assigned', 'positive_label_in_total',\n",
       "       'precison/labels', 'precison/selected_labels', 'recall/labels',\n",
       "       'recall/selected_labels', 'selected_features_count',\n",
       "       'singleton_clusters_count', 'tnr/labels', 'tnr/selected_labels',\n",
       "       'unassigned_doc_percent'],\n",
       "      dtype='object')"
      ]
     },
     "execution_count": 252,
     "metadata": {},
     "output_type": "execute_result"
    }
   ],
   "source": [
    "df.columns"
   ]
  },
  {
   "cell_type": "code",
   "execution_count": 4,
   "metadata": {},
   "outputs": [
    {
     "data": {
      "text/plain": [
       "(375, 54)"
      ]
     },
     "execution_count": 4,
     "metadata": {},
     "output_type": "execute_result"
    }
   ],
   "source": [
    "# 375 unique runs with 54 input+output fields\n",
    "df.shape"
   ]
  },
  {
   "cell_type": "code",
   "execution_count": 304,
   "metadata": {},
   "outputs": [
    {
     "data": {
      "text/plain": [
       "pandas.core.frame.DataFrame"
      ]
     },
     "execution_count": 304,
     "metadata": {},
     "output_type": "execute_result"
    }
   ],
   "source": [
    "input_columns = ['embedding', 'fe_type', 'max_features_frac',\n",
    "       'max_overlap_percent',\n",
    "       'num_embedding_passes',\n",
    "       'with_negative_label']\n",
    "\n",
    "grp = temp_df.groupby(input_columns)[out_col].unique().unstack()\n",
    "type(grp)"
   ]
  },
  {
   "cell_type": "code",
   "execution_count": 308,
   "metadata": {},
   "outputs": [
    {
     "data": {
      "text/plain": [
       "1"
      ]
     },
     "execution_count": 308,
     "metadata": {},
     "output_type": "execute_result"
    }
   ],
   "source": [
    "grp = df.groupby(input_columns)[out_col].unique().unstack()\n",
    "df.groupby(input_columns)[out_col].count().max()\n"
   ]
  },
  {
   "cell_type": "code",
   "execution_count": 305,
   "metadata": {},
   "outputs": [
    {
     "data": {
      "text/plain": [
       "1"
      ]
     },
     "execution_count": 305,
     "metadata": {},
     "output_type": "execute_result"
    }
   ],
   "source": [
    "temp_df.groupby(input_columns)[out_col].count().max()"
   ]
  },
  {
   "cell_type": "code",
   "execution_count": 310,
   "metadata": {},
   "outputs": [
    {
     "data": {
      "text/plain": [
       "array(['4.0', '3.0', 'None'], dtype=object)"
      ]
     },
     "execution_count": 310,
     "metadata": {},
     "output_type": "execute_result"
    }
   ],
   "source": [
    "df.num_embedding_passes.unique()"
   ]
  },
  {
   "cell_type": "code",
   "execution_count": 309,
   "metadata": {
    "scrolled": true
   },
   "outputs": [
    {
     "data": {
      "text/html": [
       "<div>\n",
       "<style scoped>\n",
       "    .dataframe tbody tr th:only-of-type {\n",
       "        vertical-align: middle;\n",
       "    }\n",
       "\n",
       "    .dataframe tbody tr th {\n",
       "        vertical-align: top;\n",
       "    }\n",
       "\n",
       "    .dataframe thead th {\n",
       "        text-align: right;\n",
       "    }\n",
       "</style>\n",
       "<table border=\"1\" class=\"dataframe\">\n",
       "  <thead>\n",
       "    <tr style=\"text-align: right;\">\n",
       "      <th></th>\n",
       "      <th></th>\n",
       "      <th></th>\n",
       "      <th></th>\n",
       "      <th></th>\n",
       "      <th>with_negative_label</th>\n",
       "      <th>False</th>\n",
       "      <th>True</th>\n",
       "    </tr>\n",
       "    <tr>\n",
       "      <th>embedding</th>\n",
       "      <th>fe_type</th>\n",
       "      <th>max_features_frac</th>\n",
       "      <th>max_overlap_percent</th>\n",
       "      <th>num_embedding_passes</th>\n",
       "      <th>outlier_threshold</th>\n",
       "      <th></th>\n",
       "      <th></th>\n",
       "    </tr>\n",
       "  </thead>\n",
       "  <tbody>\n",
       "    <tr>\n",
       "      <th rowspan=\"5\" valign=\"top\">None</th>\n",
       "      <th rowspan=\"5\" valign=\"top\">default</th>\n",
       "      <th rowspan=\"5\" valign=\"top\">0.1</th>\n",
       "      <th>1</th>\n",
       "      <th>None</th>\n",
       "      <th>2</th>\n",
       "      <td>[82.205]</td>\n",
       "      <td>[82.245]</td>\n",
       "    </tr>\n",
       "    <tr>\n",
       "      <th>2</th>\n",
       "      <th>None</th>\n",
       "      <th>2</th>\n",
       "      <td>[82.205]</td>\n",
       "      <td>[82.405]</td>\n",
       "    </tr>\n",
       "    <tr>\n",
       "      <th>3</th>\n",
       "      <th>None</th>\n",
       "      <th>2</th>\n",
       "      <td>[82.205]</td>\n",
       "      <td>[82.405]</td>\n",
       "    </tr>\n",
       "    <tr>\n",
       "      <th>4</th>\n",
       "      <th>None</th>\n",
       "      <th>2</th>\n",
       "      <td>[82.205]</td>\n",
       "      <td>[82.405]</td>\n",
       "    </tr>\n",
       "    <tr>\n",
       "      <th>None</th>\n",
       "      <th>None</th>\n",
       "      <th>2</th>\n",
       "      <td>[82.205]</td>\n",
       "      <td>[82.405]</td>\n",
       "    </tr>\n",
       "    <tr>\n",
       "      <th>...</th>\n",
       "      <th>...</th>\n",
       "      <th>...</th>\n",
       "      <th>...</th>\n",
       "      <th>...</th>\n",
       "      <th>...</th>\n",
       "      <td>...</td>\n",
       "      <td>...</td>\n",
       "    </tr>\n",
       "    <tr>\n",
       "      <th rowspan=\"5\" valign=\"top\">sentbert</th>\n",
       "      <th rowspan=\"5\" valign=\"top\">ticket</th>\n",
       "      <th rowspan=\"5\" valign=\"top\">None</th>\n",
       "      <th>3</th>\n",
       "      <th>4.0</th>\n",
       "      <th>2</th>\n",
       "      <td>[81.7124]</td>\n",
       "      <td>NaN</td>\n",
       "    </tr>\n",
       "    <tr>\n",
       "      <th rowspan=\"2\" valign=\"top\">4</th>\n",
       "      <th>3.0</th>\n",
       "      <th>2</th>\n",
       "      <td>[82.8506]</td>\n",
       "      <td>NaN</td>\n",
       "    </tr>\n",
       "    <tr>\n",
       "      <th>4.0</th>\n",
       "      <th>2</th>\n",
       "      <td>[81.7124]</td>\n",
       "      <td>NaN</td>\n",
       "    </tr>\n",
       "    <tr>\n",
       "      <th rowspan=\"2\" valign=\"top\">None</th>\n",
       "      <th>3.0</th>\n",
       "      <th>2</th>\n",
       "      <td>[82.8506]</td>\n",
       "      <td>[82.9968]</td>\n",
       "    </tr>\n",
       "    <tr>\n",
       "      <th>4.0</th>\n",
       "      <th>2</th>\n",
       "      <td>[81.7124]</td>\n",
       "      <td>[81.9841]</td>\n",
       "    </tr>\n",
       "  </tbody>\n",
       "</table>\n",
       "<p>200 rows × 2 columns</p>\n",
       "</div>"
      ],
      "text/plain": [
       "with_negative_label                                                                                 False  \\\n",
       "embedding fe_type max_features_frac max_overlap_percent num_embedding_passes outlier_threshold              \n",
       "None      default 0.1               1                   None                 2                   [82.205]   \n",
       "                                    2                   None                 2                   [82.205]   \n",
       "                                    3                   None                 2                   [82.205]   \n",
       "                                    4                   None                 2                   [82.205]   \n",
       "                                    None                None                 2                   [82.205]   \n",
       "...                                                                                                   ...   \n",
       "sentbert  ticket  None              3                   4.0                  2                  [81.7124]   \n",
       "                                    4                   3.0                  2                  [82.8506]   \n",
       "                                                        4.0                  2                  [81.7124]   \n",
       "                                    None                3.0                  2                  [82.8506]   \n",
       "                                                        4.0                  2                  [81.7124]   \n",
       "\n",
       "with_negative_label                                                                                 True   \n",
       "embedding fe_type max_features_frac max_overlap_percent num_embedding_passes outlier_threshold             \n",
       "None      default 0.1               1                   None                 2                   [82.245]  \n",
       "                                    2                   None                 2                   [82.405]  \n",
       "                                    3                   None                 2                   [82.405]  \n",
       "                                    4                   None                 2                   [82.405]  \n",
       "                                    None                None                 2                   [82.405]  \n",
       "...                                                                                                   ...  \n",
       "sentbert  ticket  None              3                   4.0                  2                        NaN  \n",
       "                                    4                   3.0                  2                        NaN  \n",
       "                                                        4.0                  2                        NaN  \n",
       "                                    None                3.0                  2                  [82.9968]  \n",
       "                                                        4.0                  2                  [81.9841]  \n",
       "\n",
       "[200 rows x 2 columns]"
      ]
     },
     "execution_count": 309,
     "metadata": {},
     "output_type": "execute_result"
    }
   ],
   "source": [
    "grp"
   ]
  },
  {
   "cell_type": "code",
   "execution_count": 279,
   "metadata": {},
   "outputs": [
    {
     "data": {
      "text/plain": [
       "<matplotlib.axes._subplots.AxesSubplot at 0x12d59f3d0>"
      ]
     },
     "execution_count": 279,
     "metadata": {},
     "output_type": "execute_result"
    },
    {
     "data": {
      "image/png": "[encoded data removed]",
      "text/plain": [
       "<Figure size 432x288 with 1 Axes>"
      ]
     },
     "metadata": {
      "needs_background": "light"
     },
     "output_type": "display_data"
    }
   ],
   "source": [
    "grp = temp_df.groupby(input_columns)[out_col].max().unstack()\n",
    "grp\n",
    "grp.plot()"
   ]
  },
  {
   "cell_type": "code",
   "execution_count": 293,
   "metadata": {},
   "outputs": [
    {
     "data": {
      "text/plain": [
       "'accuracy/selected_labels'"
      ]
     },
     "execution_count": 293,
     "metadata": {},
     "output_type": "execute_result"
    }
   ],
   "source": [
    "out_col"
   ]
  },
  {
   "cell_type": "code",
   "execution_count": 289,
   "metadata": {},
   "outputs": [
    {
     "data": {
      "text/plain": [
       "Index(['embedding', 'fe_type', 'max_features_frac', 'max_labels_per_doc',\n",
       "       'max_overlap_percent', 'neg_pairs/labels', 'neg_pairs/selected_labels',\n",
       "       'num_embedding_passes', 'outlier_threshold', 'pos_pairs/labels',\n",
       "       'pos_pairs/selected_labels', 'total_documents', 'total_pairs/labels',\n",
       "       'total_pairs/selected_labels', 'with_negative_label',\n",
       "       'absent_features/labels', 'absent_features/selected_labels',\n",
       "       'accuracy/labels', 'accuracy/selected_labels', 'assigned_doc_percent',\n",
       "       'clusters_count', 'disconnected_clusters/labels',\n",
       "       'disconnected_clusters/selected_labels', 'embedding_clusters_count',\n",
       "       'embedding_singular_features', 'fscore/labels',\n",
       "       'fscore/selected_labels', 'initial_features', 'noisy_docs',\n",
       "       'outlier_fpr/labels', 'outlier_fpr/selected_labels',\n",
       "       'outlier_precision/labels', 'outlier_precision/selected_labels',\n",
       "       'outlier_predicted/labels', 'outlier_predicted/selected_labels',\n",
       "       'positive_label_in_assigned', 'positive_label_in_total',\n",
       "       'precison/labels', 'precison/selected_labels', 'recall/labels',\n",
       "       'recall/selected_labels', 'selected_features_count',\n",
       "       'singleton_clusters_count', 'tnr/labels', 'tnr/selected_labels',\n",
       "       'unassigned_doc_percent'],\n",
       "      dtype='object')"
      ]
     },
     "execution_count": 289,
     "metadata": {},
     "output_type": "execute_result"
    }
   ],
   "source": [
    "temp_df.columns"
   ]
  },
  {
   "cell_type": "code",
   "execution_count": 292,
   "metadata": {},
   "outputs": [
    {
     "data": {
      "text/plain": [
       "(88.175, 84.2013)"
      ]
     },
     "execution_count": 292,
     "metadata": {},
     "output_type": "execute_result"
    }
   ],
   "source": [
    "temp_df[temp_df.fe_type=='default'][out_col].max(),temp_df[temp_df.fe_type=='ticket'][out_col].max()\n"
   ]
  },
  {
   "cell_type": "code",
   "execution_count": 312,
   "metadata": {},
   "outputs": [
    {
     "data": {
      "text/plain": [
       "array(['4.0', 'None'], dtype=object)"
      ]
     },
     "execution_count": 312,
     "metadata": {},
     "output_type": "execute_result"
    }
   ],
   "source": [
    "temp_df = df[df.num_embedding_passes.isin(['None', '4.0'])]\n",
    "temp_df.num_embedding_passes.unique()"
   ]
  },
  {
   "cell_type": "code",
   "execution_count": 313,
   "metadata": {
    "scrolled": true
   },
   "outputs": [
    {
     "name": "stdout",
     "output_type": "stream",
     "text": [
      "['embedding', 'max_features_frac', 'max_overlap_percent', 'with_negative_label'] \n",
      "\n",
      "('None', '0.1', '1') \n",
      "\n",
      "Change..\n",
      " True 82.245 82.405\n",
      "('None', '0.1', '2') \n",
      "\n",
      "('None', '0.1', '3') \n",
      "\n",
      "('None', '0.1', '4') \n",
      "\n",
      "('None', '0.1', 'None') \n",
      "\n",
      "Change..\n",
      " True 82.405 82.245\n",
      "('None', '0.15', '1') \n",
      "\n",
      "Change..\n",
      " True 82.245 82.405\n",
      "('None', '0.15', '2') \n",
      "\n",
      "('None', '0.15', '3') \n",
      "\n",
      "('None', '0.15', '4') \n",
      "\n",
      "('None', '0.15', 'None') \n",
      "\n",
      "Change..\n",
      " True 82.405 82.245\n",
      "('None', '0.2', '1') \n",
      "\n",
      "Change..\n",
      " True 82.245 82.405\n",
      "('None', '0.2', '2') \n",
      "\n",
      "('None', '0.2', '3') \n",
      "\n",
      "('None', '0.2', '4') \n",
      "\n",
      "('None', '0.2', 'None') \n",
      "\n",
      "Change..\n",
      " True 82.405 82.245\n",
      "('None', 'None', '1') \n",
      "\n",
      "Change..\n",
      " True 82.245 82.405\n",
      "('None', 'None', '2') \n",
      "\n",
      "('None', 'None', '3') \n",
      "\n",
      "('None', 'None', '4') \n",
      "\n",
      "('None', 'None', 'None') \n",
      "\n",
      "Change..\n",
      " False 82.205 85.45\n",
      "Change..\n",
      " True 82.405 85.51\n",
      "('fasttext', '0.1', '1') \n",
      "\n",
      "Change..\n",
      " True 85.51 85.57\n",
      "('fasttext', '0.1', '2') \n",
      "\n",
      "('fasttext', '0.1', '3') \n",
      "\n",
      "('fasttext', '0.1', '4') \n",
      "\n",
      "('fasttext', '0.1', 'None') \n",
      "\n",
      "Change..\n",
      " True 85.57 85.51\n",
      "('fasttext', '0.15', '1') \n",
      "\n",
      "Change..\n",
      " True 85.51 85.57\n",
      "('fasttext', '0.15', '2') \n",
      "\n",
      "('fasttext', '0.15', '3') \n",
      "\n",
      "('fasttext', '0.15', '4') \n",
      "\n",
      "('fasttext', '0.15', 'None') \n",
      "\n",
      "Change..\n",
      " True 85.57 85.51\n",
      "('fasttext', '0.2', '1') \n",
      "\n",
      "Change..\n",
      " True 85.51 85.57\n",
      "('fasttext', '0.2', '2') \n",
      "\n",
      "('fasttext', '0.2', '3') \n",
      "\n",
      "('fasttext', '0.2', '4') \n",
      "\n",
      "('fasttext', '0.2', 'None') \n",
      "\n",
      "Change..\n",
      " True 85.57 85.51\n",
      "('fasttext', 'None', '1') \n",
      "\n",
      "Change..\n",
      " True 85.51 85.57\n",
      "('fasttext', 'None', '2') \n",
      "\n",
      "('fasttext', 'None', '3') \n",
      "\n",
      "('fasttext', 'None', '4') \n",
      "\n",
      "('fasttext', 'None', 'None') \n",
      "\n",
      "Change..\n",
      " False 85.45 88.175\n",
      "Change..\n",
      " True 85.57 88.07\n",
      "('sentbert', '0.1', '1') \n",
      "\n",
      "('sentbert', '0.1', '2') \n",
      "\n",
      "('sentbert', '0.1', '3') \n",
      "\n",
      "('sentbert', '0.1', '4') \n",
      "\n",
      "('sentbert', '0.1', 'None') \n",
      "\n",
      "('sentbert', '0.15', '1') \n",
      "\n",
      "('sentbert', '0.15', '2') \n",
      "\n",
      "('sentbert', '0.15', '3') \n",
      "\n",
      "('sentbert', '0.15', '4') \n",
      "\n",
      "('sentbert', '0.15', 'None') \n",
      "\n",
      "('sentbert', '0.2', '1') \n",
      "\n",
      "('sentbert', '0.2', '2') \n",
      "\n",
      "('sentbert', '0.2', '3') \n",
      "\n",
      "('sentbert', '0.2', '4') \n",
      "\n",
      "('sentbert', '0.2', 'None') \n",
      "\n",
      "('sentbert', 'None', '1') \n",
      "\n",
      "('sentbert', 'None', '2') \n",
      "\n",
      "('sentbert', 'None', '3') \n",
      "\n",
      "('sentbert', 'None', '4') \n",
      "\n",
      "('sentbert', 'None', 'None') \n",
      "\n"
     ]
    }
   ],
   "source": [
    "import math\n",
    "import collections\n",
    "\n",
    "selected_col = input_columns.copy()\n",
    "selected_col.remove('fe_type')\n",
    "selected_col.remove('outlier_threshold')\n",
    "selected_col.remove('num_embedding_passes')\n",
    "\n",
    "print(selected_col, '\\n')\n",
    "out_col = 'accuracy/selected_labels'\n",
    "\n",
    "temp_df = df[df.num_embedding_passes.isin(['None', '4.0'])]\n",
    "t_df = temp_df[temp_df.fe_type == 'default']\n",
    "\n",
    "\n",
    "grp = t_df.groupby(selected_col)[out_col].max().unstack()\n",
    "grp_temp_df = grp.copy()\n",
    "\n",
    "grp = grp_temp_df #grp_temp_df.groupby(selected_col)['absent_features/labels'].min().unstack()\n",
    "\n",
    "k = grp.iloc[0].index\n",
    "\n",
    "res_map = collections.defaultdict(list)\n",
    "\n",
    "\n",
    "for i in range(len(grp)):\n",
    "    if grp.iloc[i].isna().sum() > 0:\n",
    "        continue\n",
    "    \n",
    "    if len(set(grp.iloc[i].values))<=1:\n",
    "        continue\n",
    "    \n",
    "    for k, v in grp.iloc[i].items():\n",
    "        res_map[k].append(v)\n",
    "        \n",
    "        if len(res_map[k])>1 and res_map[k][-1] != res_map[k][-2]:\n",
    "            print('Change..\\n', k, res_map[k][-2], res_map[k][-1])\n",
    "    \n",
    "    print(grp.index[i], '\\n')\n"
   ]
  },
  {
   "cell_type": "code",
   "execution_count": 314,
   "metadata": {
    "scrolled": true
   },
   "outputs": [
    {
     "data": {
      "text/html": [
       "<div>\n",
       "<style scoped>\n",
       "    .dataframe tbody tr th:only-of-type {\n",
       "        vertical-align: middle;\n",
       "    }\n",
       "\n",
       "    .dataframe tbody tr th {\n",
       "        vertical-align: top;\n",
       "    }\n",
       "\n",
       "    .dataframe thead th {\n",
       "        text-align: right;\n",
       "    }\n",
       "</style>\n",
       "<table border=\"1\" class=\"dataframe\">\n",
       "  <thead>\n",
       "    <tr style=\"text-align: right;\">\n",
       "      <th></th>\n",
       "      <th></th>\n",
       "      <th>with_negative_label</th>\n",
       "      <th>False</th>\n",
       "      <th>True</th>\n",
       "    </tr>\n",
       "    <tr>\n",
       "      <th>embedding</th>\n",
       "      <th>max_features_frac</th>\n",
       "      <th>max_overlap_percent</th>\n",
       "      <th></th>\n",
       "      <th></th>\n",
       "    </tr>\n",
       "  </thead>\n",
       "  <tbody>\n",
       "    <tr>\n",
       "      <th rowspan=\"20\" valign=\"top\">None</th>\n",
       "      <th rowspan=\"5\" valign=\"top\">0.1</th>\n",
       "      <th>1</th>\n",
       "      <td>82.205</td>\n",
       "      <td>82.245</td>\n",
       "    </tr>\n",
       "    <tr>\n",
       "      <th>2</th>\n",
       "      <td>82.205</td>\n",
       "      <td>82.405</td>\n",
       "    </tr>\n",
       "    <tr>\n",
       "      <th>3</th>\n",
       "      <td>82.205</td>\n",
       "      <td>82.405</td>\n",
       "    </tr>\n",
       "    <tr>\n",
       "      <th>4</th>\n",
       "      <td>82.205</td>\n",
       "      <td>82.405</td>\n",
       "    </tr>\n",
       "    <tr>\n",
       "      <th>None</th>\n",
       "      <td>82.205</td>\n",
       "      <td>82.405</td>\n",
       "    </tr>\n",
       "    <tr>\n",
       "      <th rowspan=\"5\" valign=\"top\">0.15</th>\n",
       "      <th>1</th>\n",
       "      <td>82.205</td>\n",
       "      <td>82.245</td>\n",
       "    </tr>\n",
       "    <tr>\n",
       "      <th>2</th>\n",
       "      <td>82.205</td>\n",
       "      <td>82.405</td>\n",
       "    </tr>\n",
       "    <tr>\n",
       "      <th>3</th>\n",
       "      <td>82.205</td>\n",
       "      <td>82.405</td>\n",
       "    </tr>\n",
       "    <tr>\n",
       "      <th>4</th>\n",
       "      <td>82.205</td>\n",
       "      <td>82.405</td>\n",
       "    </tr>\n",
       "    <tr>\n",
       "      <th>None</th>\n",
       "      <td>82.205</td>\n",
       "      <td>82.405</td>\n",
       "    </tr>\n",
       "    <tr>\n",
       "      <th rowspan=\"5\" valign=\"top\">0.2</th>\n",
       "      <th>1</th>\n",
       "      <td>82.205</td>\n",
       "      <td>82.245</td>\n",
       "    </tr>\n",
       "    <tr>\n",
       "      <th>2</th>\n",
       "      <td>82.205</td>\n",
       "      <td>82.405</td>\n",
       "    </tr>\n",
       "    <tr>\n",
       "      <th>3</th>\n",
       "      <td>82.205</td>\n",
       "      <td>82.405</td>\n",
       "    </tr>\n",
       "    <tr>\n",
       "      <th>4</th>\n",
       "      <td>82.205</td>\n",
       "      <td>82.405</td>\n",
       "    </tr>\n",
       "    <tr>\n",
       "      <th>None</th>\n",
       "      <td>82.205</td>\n",
       "      <td>82.405</td>\n",
       "    </tr>\n",
       "    <tr>\n",
       "      <th rowspan=\"5\" valign=\"top\">None</th>\n",
       "      <th>1</th>\n",
       "      <td>82.205</td>\n",
       "      <td>82.245</td>\n",
       "    </tr>\n",
       "    <tr>\n",
       "      <th>2</th>\n",
       "      <td>82.205</td>\n",
       "      <td>82.405</td>\n",
       "    </tr>\n",
       "    <tr>\n",
       "      <th>3</th>\n",
       "      <td>82.205</td>\n",
       "      <td>82.405</td>\n",
       "    </tr>\n",
       "    <tr>\n",
       "      <th>4</th>\n",
       "      <td>82.205</td>\n",
       "      <td>82.405</td>\n",
       "    </tr>\n",
       "    <tr>\n",
       "      <th>None</th>\n",
       "      <td>82.205</td>\n",
       "      <td>82.405</td>\n",
       "    </tr>\n",
       "    <tr>\n",
       "      <th rowspan=\"20\" valign=\"top\">fasttext</th>\n",
       "      <th rowspan=\"5\" valign=\"top\">0.1</th>\n",
       "      <th>1</th>\n",
       "      <td>85.450</td>\n",
       "      <td>85.510</td>\n",
       "    </tr>\n",
       "    <tr>\n",
       "      <th>2</th>\n",
       "      <td>85.450</td>\n",
       "      <td>85.570</td>\n",
       "    </tr>\n",
       "    <tr>\n",
       "      <th>3</th>\n",
       "      <td>85.450</td>\n",
       "      <td>85.570</td>\n",
       "    </tr>\n",
       "    <tr>\n",
       "      <th>4</th>\n",
       "      <td>85.450</td>\n",
       "      <td>85.570</td>\n",
       "    </tr>\n",
       "    <tr>\n",
       "      <th>None</th>\n",
       "      <td>85.450</td>\n",
       "      <td>85.570</td>\n",
       "    </tr>\n",
       "    <tr>\n",
       "      <th rowspan=\"5\" valign=\"top\">0.15</th>\n",
       "      <th>1</th>\n",
       "      <td>85.450</td>\n",
       "      <td>85.510</td>\n",
       "    </tr>\n",
       "    <tr>\n",
       "      <th>2</th>\n",
       "      <td>85.450</td>\n",
       "      <td>85.570</td>\n",
       "    </tr>\n",
       "    <tr>\n",
       "      <th>3</th>\n",
       "      <td>85.450</td>\n",
       "      <td>85.570</td>\n",
       "    </tr>\n",
       "    <tr>\n",
       "      <th>4</th>\n",
       "      <td>85.450</td>\n",
       "      <td>85.570</td>\n",
       "    </tr>\n",
       "    <tr>\n",
       "      <th>None</th>\n",
       "      <td>85.450</td>\n",
       "      <td>85.570</td>\n",
       "    </tr>\n",
       "    <tr>\n",
       "      <th rowspan=\"5\" valign=\"top\">0.2</th>\n",
       "      <th>1</th>\n",
       "      <td>85.450</td>\n",
       "      <td>85.510</td>\n",
       "    </tr>\n",
       "    <tr>\n",
       "      <th>2</th>\n",
       "      <td>85.450</td>\n",
       "      <td>85.570</td>\n",
       "    </tr>\n",
       "    <tr>\n",
       "      <th>3</th>\n",
       "      <td>85.450</td>\n",
       "      <td>85.570</td>\n",
       "    </tr>\n",
       "    <tr>\n",
       "      <th>4</th>\n",
       "      <td>85.450</td>\n",
       "      <td>85.570</td>\n",
       "    </tr>\n",
       "    <tr>\n",
       "      <th>None</th>\n",
       "      <td>85.450</td>\n",
       "      <td>85.570</td>\n",
       "    </tr>\n",
       "    <tr>\n",
       "      <th rowspan=\"5\" valign=\"top\">None</th>\n",
       "      <th>1</th>\n",
       "      <td>85.450</td>\n",
       "      <td>85.510</td>\n",
       "    </tr>\n",
       "    <tr>\n",
       "      <th>2</th>\n",
       "      <td>85.450</td>\n",
       "      <td>85.570</td>\n",
       "    </tr>\n",
       "    <tr>\n",
       "      <th>3</th>\n",
       "      <td>85.450</td>\n",
       "      <td>85.570</td>\n",
       "    </tr>\n",
       "    <tr>\n",
       "      <th>4</th>\n",
       "      <td>85.450</td>\n",
       "      <td>85.570</td>\n",
       "    </tr>\n",
       "    <tr>\n",
       "      <th>None</th>\n",
       "      <td>85.450</td>\n",
       "      <td>85.570</td>\n",
       "    </tr>\n",
       "    <tr>\n",
       "      <th rowspan=\"20\" valign=\"top\">sentbert</th>\n",
       "      <th rowspan=\"5\" valign=\"top\">0.1</th>\n",
       "      <th>1</th>\n",
       "      <td>88.175</td>\n",
       "      <td>88.070</td>\n",
       "    </tr>\n",
       "    <tr>\n",
       "      <th>2</th>\n",
       "      <td>88.175</td>\n",
       "      <td>88.070</td>\n",
       "    </tr>\n",
       "    <tr>\n",
       "      <th>3</th>\n",
       "      <td>88.175</td>\n",
       "      <td>88.070</td>\n",
       "    </tr>\n",
       "    <tr>\n",
       "      <th>4</th>\n",
       "      <td>88.175</td>\n",
       "      <td>88.070</td>\n",
       "    </tr>\n",
       "    <tr>\n",
       "      <th>None</th>\n",
       "      <td>88.175</td>\n",
       "      <td>88.070</td>\n",
       "    </tr>\n",
       "    <tr>\n",
       "      <th rowspan=\"5\" valign=\"top\">0.15</th>\n",
       "      <th>1</th>\n",
       "      <td>88.175</td>\n",
       "      <td>88.070</td>\n",
       "    </tr>\n",
       "    <tr>\n",
       "      <th>2</th>\n",
       "      <td>88.175</td>\n",
       "      <td>88.070</td>\n",
       "    </tr>\n",
       "    <tr>\n",
       "      <th>3</th>\n",
       "      <td>88.175</td>\n",
       "      <td>88.070</td>\n",
       "    </tr>\n",
       "    <tr>\n",
       "      <th>4</th>\n",
       "      <td>88.175</td>\n",
       "      <td>88.070</td>\n",
       "    </tr>\n",
       "    <tr>\n",
       "      <th>None</th>\n",
       "      <td>88.175</td>\n",
       "      <td>88.070</td>\n",
       "    </tr>\n",
       "    <tr>\n",
       "      <th rowspan=\"5\" valign=\"top\">0.2</th>\n",
       "      <th>1</th>\n",
       "      <td>88.175</td>\n",
       "      <td>88.070</td>\n",
       "    </tr>\n",
       "    <tr>\n",
       "      <th>2</th>\n",
       "      <td>88.175</td>\n",
       "      <td>88.070</td>\n",
       "    </tr>\n",
       "    <tr>\n",
       "      <th>3</th>\n",
       "      <td>88.175</td>\n",
       "      <td>88.070</td>\n",
       "    </tr>\n",
       "    <tr>\n",
       "      <th>4</th>\n",
       "      <td>88.175</td>\n",
       "      <td>88.070</td>\n",
       "    </tr>\n",
       "    <tr>\n",
       "      <th>None</th>\n",
       "      <td>88.175</td>\n",
       "      <td>88.070</td>\n",
       "    </tr>\n",
       "    <tr>\n",
       "      <th rowspan=\"5\" valign=\"top\">None</th>\n",
       "      <th>1</th>\n",
       "      <td>88.175</td>\n",
       "      <td>88.070</td>\n",
       "    </tr>\n",
       "    <tr>\n",
       "      <th>2</th>\n",
       "      <td>88.175</td>\n",
       "      <td>88.070</td>\n",
       "    </tr>\n",
       "    <tr>\n",
       "      <th>3</th>\n",
       "      <td>88.175</td>\n",
       "      <td>88.070</td>\n",
       "    </tr>\n",
       "    <tr>\n",
       "      <th>4</th>\n",
       "      <td>88.175</td>\n",
       "      <td>88.070</td>\n",
       "    </tr>\n",
       "    <tr>\n",
       "      <th>None</th>\n",
       "      <td>88.175</td>\n",
       "      <td>88.070</td>\n",
       "    </tr>\n",
       "  </tbody>\n",
       "</table>\n",
       "</div>"
      ],
      "text/plain": [
       "with_negative_label                               False   True \n",
       "embedding max_features_frac max_overlap_percent                \n",
       "None      0.1               1                    82.205  82.245\n",
       "                            2                    82.205  82.405\n",
       "                            3                    82.205  82.405\n",
       "                            4                    82.205  82.405\n",
       "                            None                 82.205  82.405\n",
       "          0.15              1                    82.205  82.245\n",
       "                            2                    82.205  82.405\n",
       "                            3                    82.205  82.405\n",
       "                            4                    82.205  82.405\n",
       "                            None                 82.205  82.405\n",
       "          0.2               1                    82.205  82.245\n",
       "                            2                    82.205  82.405\n",
       "                            3                    82.205  82.405\n",
       "                            4                    82.205  82.405\n",
       "                            None                 82.205  82.405\n",
       "          None              1                    82.205  82.245\n",
       "                            2                    82.205  82.405\n",
       "                            3                    82.205  82.405\n",
       "                            4                    82.205  82.405\n",
       "                            None                 82.205  82.405\n",
       "fasttext  0.1               1                    85.450  85.510\n",
       "                            2                    85.450  85.570\n",
       "                            3                    85.450  85.570\n",
       "                            4                    85.450  85.570\n",
       "                            None                 85.450  85.570\n",
       "          0.15              1                    85.450  85.510\n",
       "                            2                    85.450  85.570\n",
       "                            3                    85.450  85.570\n",
       "                            4                    85.450  85.570\n",
       "                            None                 85.450  85.570\n",
       "          0.2               1                    85.450  85.510\n",
       "                            2                    85.450  85.570\n",
       "                            3                    85.450  85.570\n",
       "                            4                    85.450  85.570\n",
       "                            None                 85.450  85.570\n",
       "          None              1                    85.450  85.510\n",
       "                            2                    85.450  85.570\n",
       "                            3                    85.450  85.570\n",
       "                            4                    85.450  85.570\n",
       "                            None                 85.450  85.570\n",
       "sentbert  0.1               1                    88.175  88.070\n",
       "                            2                    88.175  88.070\n",
       "                            3                    88.175  88.070\n",
       "                            4                    88.175  88.070\n",
       "                            None                 88.175  88.070\n",
       "          0.15              1                    88.175  88.070\n",
       "                            2                    88.175  88.070\n",
       "                            3                    88.175  88.070\n",
       "                            4                    88.175  88.070\n",
       "                            None                 88.175  88.070\n",
       "          0.2               1                    88.175  88.070\n",
       "                            2                    88.175  88.070\n",
       "                            3                    88.175  88.070\n",
       "                            4                    88.175  88.070\n",
       "                            None                 88.175  88.070\n",
       "          None              1                    88.175  88.070\n",
       "                            2                    88.175  88.070\n",
       "                            3                    88.175  88.070\n",
       "                            4                    88.175  88.070\n",
       "                            None                 88.175  88.070"
      ]
     },
     "execution_count": 314,
     "metadata": {},
     "output_type": "execute_result"
    }
   ],
   "source": [
    "grp"
   ]
  },
  {
   "cell_type": "code",
   "execution_count": 319,
   "metadata": {
    "scrolled": true
   },
   "outputs": [
    {
     "data": {
      "text/plain": [
       "embedding  max_features_frac  max_overlap_percent\n",
       "None       0.1                1                      [82.205]\n",
       "                              2                      [82.205]\n",
       "                              3                      [82.205]\n",
       "                              4                      [82.205]\n",
       "                              None                   [82.205]\n",
       "           0.15               1                      [82.205]\n",
       "                              2                      [82.205]\n",
       "                              3                      [82.205]\n",
       "                              4                      [82.205]\n",
       "                              None                   [82.205]\n",
       "           0.2                1                      [82.205]\n",
       "                              2                      [82.205]\n",
       "                              3                      [82.205]\n",
       "                              4                      [82.205]\n",
       "                              None                   [82.205]\n",
       "           None               1                      [82.205]\n",
       "                              2                      [82.205]\n",
       "                              3                      [82.205]\n",
       "                              4                      [82.205]\n",
       "                              None                   [82.205]\n",
       "fasttext   0.1                1                       [85.45]\n",
       "                              2                       [85.45]\n",
       "                              3                       [85.45]\n",
       "                              4                       [85.45]\n",
       "                              None                    [85.45]\n",
       "           0.15               1                       [85.45]\n",
       "                              2                       [85.45]\n",
       "                              3                       [85.45]\n",
       "                              4                       [85.45]\n",
       "                              None                    [85.45]\n",
       "           0.2                1                       [85.45]\n",
       "                              2                       [85.45]\n",
       "                              3                       [85.45]\n",
       "                              4                       [85.45]\n",
       "                              None                    [85.45]\n",
       "           None               1                       [85.45]\n",
       "                              2                       [85.45]\n",
       "                              3                       [85.45]\n",
       "                              4                       [85.45]\n",
       "                              None                    [85.45]\n",
       "sentbert   0.1                1                      [88.175]\n",
       "                              2                      [88.175]\n",
       "                              3                      [88.175]\n",
       "                              4                      [88.175]\n",
       "                              None                   [88.175]\n",
       "           0.15               1                      [88.175]\n",
       "                              2                      [88.175]\n",
       "                              3                      [88.175]\n",
       "                              4                      [88.175]\n",
       "                              None                   [88.175]\n",
       "           0.2                1                      [88.175]\n",
       "                              2                      [88.175]\n",
       "                              3                      [88.175]\n",
       "                              4                      [88.175]\n",
       "                              None                   [88.175]\n",
       "           None               1                      [88.175]\n",
       "                              2                      [88.175]\n",
       "                              3                      [88.175]\n",
       "                              4                      [88.175]\n",
       "                              None                   [88.175]\n",
       "Name: accuracy/selected_labels, dtype: object"
      ]
     },
     "execution_count": 319,
     "metadata": {},
     "output_type": "execute_result"
    }
   ],
   "source": [
    "t_df[t_df.with_negative_label==False].groupby(['embedding','max_features_frac','max_overlap_percent'])[out_col].unique()\n"
   ]
  },
  {
   "cell_type": "code",
   "execution_count": 320,
   "metadata": {},
   "outputs": [
    {
     "data": {
      "text/plain": [
       "embedding\n",
       "None        [82.205]\n",
       "fasttext     [85.45]\n",
       "sentbert    [88.175]\n",
       "Name: accuracy/selected_labels, dtype: object"
      ]
     },
     "execution_count": 320,
     "metadata": {},
     "output_type": "execute_result"
    }
   ],
   "source": [
    "t_df[t_df.with_negative_label==False].groupby('embedding')[out_col].unique()"
   ]
  },
  {
   "cell_type": "code",
   "execution_count": 361,
   "metadata": {},
   "outputs": [
    {
     "name": "stdout",
     "output_type": "stream",
     "text": [
      "embedding\n",
      "None        [31.8393]\n",
      "fasttext    [12.7254]\n",
      "sentbert     [8.0886]\n",
      "Name: absent_features/labels, dtype: object embedding\n",
      "None        [31.8393]\n",
      "fasttext    [12.7254]\n",
      "sentbert     [8.0886]\n",
      "Name: absent_features/labels, dtype: object\n"
     ]
    },
    {
     "data": {
      "text/plain": [
       "embedding\n",
       "None        [31.8393]\n",
       "fasttext    [12.7254]\n",
       "sentbert     [8.0886]\n",
       "Name: absent_features/labels, dtype: object"
      ]
     },
     "execution_count": 361,
     "metadata": {},
     "output_type": "execute_result"
    }
   ],
   "source": [
    "col = 'absent_features/labels'\n",
    "temp_df = df[df.num_embedding_passes.isin(['None', '4.0'])]\n",
    "print(t_df[t_df.with_negative_label==False].groupby('embedding')[col].unique(),t_df[t_df.with_negative_label==True].groupby('embedding')[col].unique())\n",
    "t_df.groupby('embedding')[col].unique()\n"
   ]
  },
  {
   "cell_type": "code",
   "execution_count": 360,
   "metadata": {},
   "outputs": [
    {
     "name": "stdout",
     "output_type": "stream",
     "text": [
      "embedding\n",
      "None        [32.1999]\n",
      "fasttext     [14.168]\n",
      "sentbert     [9.8403]\n",
      "Name: absent_features/selected_labels, dtype: object embedding\n",
      "None        [31.8393]\n",
      "fasttext    [12.7254]\n",
      "sentbert     [8.0886]\n",
      "Name: absent_features/selected_labels, dtype: object\n"
     ]
    },
    {
     "data": {
      "text/plain": [
       "embedding\n",
       "None        [31.8393, 32.1999]\n",
       "fasttext     [12.7254, 14.168]\n",
       "sentbert      [8.0886, 9.8403]\n",
       "Name: absent_features/selected_labels, dtype: object"
      ]
     },
     "execution_count": 360,
     "metadata": {},
     "output_type": "execute_result"
    }
   ],
   "source": [
    "col = 'absent_features/selected_labels'\n",
    "temp_df = df[df.num_embedding_passes.isin(['None', '4.0'])]\n",
    "print(t_df[t_df.with_negative_label==False].groupby('embedding')[col].unique(),t_df[t_df.with_negative_label==True].groupby('embedding')[col].unique())\n",
    "\n",
    "t_df.groupby('embedding')[col].unique()\n"
   ]
  },
  {
   "cell_type": "code",
   "execution_count": 358,
   "metadata": {},
   "outputs": [
    {
     "name": "stdout",
     "output_type": "stream",
     "text": [
      "embedding\n",
      "None                     [67.8]\n",
      "fasttext    [85.83200000000001]\n",
      "sentbert                [90.16]\n",
      "Name: assigned_doc_percent, dtype: object embedding\n",
      "None        [68.161]\n",
      "fasttext    [87.275]\n",
      "sentbert    [91.911]\n",
      "Name: assigned_doc_percent, dtype: object\n"
     ]
    },
    {
     "data": {
      "text/plain": [
       "embedding\n",
       "None                     [68.161, 67.8]\n",
       "fasttext    [87.275, 85.83200000000001]\n",
       "sentbert                [91.911, 90.16]\n",
       "Name: assigned_doc_percent, dtype: object"
      ]
     },
     "execution_count": 358,
     "metadata": {},
     "output_type": "execute_result"
    }
   ],
   "source": [
    "col = 'assigned_doc_percent'\n",
    "temp_df = df[df.num_embedding_passes.isin(['None', '4.0'])]\n",
    "print(t_df[t_df.with_negative_label==False].groupby('embedding')[col].unique(),t_df[t_df.with_negative_label==True].groupby('embedding')[col].unique())\n",
    "\n",
    "t_df.groupby('embedding')[col].unique()"
   ]
  },
  {
   "cell_type": "code",
   "execution_count": 328,
   "metadata": {},
   "outputs": [
    {
     "data": {
      "text/plain": [
       "['accuracy/labels',\n",
       " 'accuracy/selected_labels',\n",
       " 'fscore/labels',\n",
       " 'fscore/selected_labels',\n",
       " 'outlier_precision/labels',\n",
       " 'outlier_precision/selected_labels',\n",
       " 'precison/labels',\n",
       " 'precison/selected_labels',\n",
       " 'recall/labels',\n",
       " 'recall/selected_labels']"
      ]
     },
     "execution_count": 328,
     "metadata": {},
     "output_type": "execute_result"
    }
   ],
   "source": [
    "metrics_cols"
   ]
  },
  {
   "cell_type": "code",
   "execution_count": 331,
   "metadata": {},
   "outputs": [
    {
     "name": "stdout",
     "output_type": "stream",
     "text": [
      "embedding\n",
      "None        [82.405]\n",
      "fasttext     [85.57]\n",
      "sentbert     [88.07]\n",
      "Name: accuracy/labels, dtype: object embedding\n",
      "None        [82.405]\n",
      "fasttext     [85.57]\n",
      "sentbert     [88.07]\n",
      "Name: accuracy/labels, dtype: object\n"
     ]
    },
    {
     "data": {
      "text/plain": [
       "embedding\n",
       "None        [82.405]\n",
       "fasttext     [85.57]\n",
       "sentbert     [88.07]\n",
       "Name: accuracy/labels, dtype: object"
      ]
     },
     "execution_count": 331,
     "metadata": {},
     "output_type": "execute_result"
    }
   ],
   "source": [
    "col = 'accuracy/labels'\n",
    "temp_df = df[df.num_embedding_passes.isin(['None', '4.0'])]\n",
    "print(t_df[t_df.with_negative_label==False].groupby('embedding')[col].unique(),t_df[t_df.with_negative_label==True].groupby('embedding')[col].unique())\n",
    "t_df.groupby('embedding')[col].unique()\n"
   ]
  },
  {
   "cell_type": "code",
   "execution_count": 340,
   "metadata": {},
   "outputs": [
    {
     "name": "stdout",
     "output_type": "stream",
     "text": [
      "embedding\n",
      "None        [82.205]\n",
      "fasttext     [85.45]\n",
      "sentbert    [88.175]\n",
      "Name: accuracy/selected_labels, dtype: object \n",
      "\n",
      " embedding\n",
      "None        [82.405]\n",
      "fasttext     [85.57]\n",
      "sentbert     [88.07]\n",
      "Name: accuracy/selected_labels, dtype: object\n"
     ]
    },
    {
     "data": {
      "text/plain": [
       "embedding\n",
       "None        [82.405, 82.205]\n",
       "fasttext      [85.57, 85.45]\n",
       "sentbert     [88.07, 88.175]\n",
       "Name: accuracy/selected_labels, dtype: object"
      ]
     },
     "execution_count": 340,
     "metadata": {},
     "output_type": "execute_result"
    }
   ],
   "source": [
    "col = 'accuracy/selected_labels'\n",
    "temp_df = df[(df.num_embedding_passes.isin(['None', '4.0'])) & (df.max_overlap_percent!='1')]\n",
    "t_df = temp_df[temp_df.fe_type == 'default']\n",
    "\n",
    "print(t_df[t_df.with_negative_label==False].groupby('embedding')[col].unique(),'\\n\\n',\n",
    "      t_df[t_df.with_negative_label==True].groupby('embedding')[col].unique())\n",
    "\n",
    "t_df.groupby('embedding')[col].unique()\n"
   ]
  },
  {
   "cell_type": "code",
   "execution_count": 341,
   "metadata": {
    "scrolled": true
   },
   "outputs": [
    {
     "data": {
      "text/plain": [
       "embedding  max_features_frac  max_overlap_percent\n",
       "None       0.1                2                      [82.405]\n",
       "                              3                      [82.405]\n",
       "                              4                      [82.405]\n",
       "                              None                   [82.405]\n",
       "           0.15               2                      [82.405]\n",
       "                              3                      [82.405]\n",
       "                              4                      [82.405]\n",
       "                              None                   [82.405]\n",
       "           0.2                2                      [82.405]\n",
       "                              3                      [82.405]\n",
       "                              4                      [82.405]\n",
       "                              None                   [82.405]\n",
       "           None               2                      [82.405]\n",
       "                              3                      [82.405]\n",
       "                              4                      [82.405]\n",
       "                              None                   [82.405]\n",
       "fasttext   0.1                2                       [85.57]\n",
       "                              3                       [85.57]\n",
       "                              4                       [85.57]\n",
       "                              None                    [85.57]\n",
       "           0.15               2                       [85.57]\n",
       "                              3                       [85.57]\n",
       "                              4                       [85.57]\n",
       "                              None                    [85.57]\n",
       "           0.2                2                       [85.57]\n",
       "                              3                       [85.57]\n",
       "                              4                       [85.57]\n",
       "                              None                    [85.57]\n",
       "           None               2                       [85.57]\n",
       "                              3                       [85.57]\n",
       "                              4                       [85.57]\n",
       "                              None                    [85.57]\n",
       "sentbert   0.1                2                       [88.07]\n",
       "                              3                       [88.07]\n",
       "                              4                       [88.07]\n",
       "                              None                    [88.07]\n",
       "           0.15               2                       [88.07]\n",
       "                              3                       [88.07]\n",
       "                              4                       [88.07]\n",
       "                              None                    [88.07]\n",
       "           0.2                2                       [88.07]\n",
       "                              3                       [88.07]\n",
       "                              4                       [88.07]\n",
       "                              None                    [88.07]\n",
       "           None               2                       [88.07]\n",
       "                              3                       [88.07]\n",
       "                              4                       [88.07]\n",
       "                              None                    [88.07]\n",
       "Name: accuracy/selected_labels, dtype: object"
      ]
     },
     "execution_count": 341,
     "metadata": {},
     "output_type": "execute_result"
    }
   ],
   "source": [
    "t_df[t_df.with_negative_label==True].groupby(['embedding','max_features_frac','max_overlap_percent'])[col].unique()\n"
   ]
  },
  {
   "cell_type": "code",
   "execution_count": 342,
   "metadata": {},
   "outputs": [
    {
     "name": "stdout",
     "output_type": "stream",
     "text": [
      "embedding\n",
      "None        [83.6652]\n",
      "fasttext    [86.8183]\n",
      "sentbert    [89.1821]\n",
      "Name: fscore/labels, dtype: object \n",
      "\n",
      " embedding\n",
      "None        [83.6652]\n",
      "fasttext    [86.8183]\n",
      "sentbert    [89.1821]\n",
      "Name: fscore/labels, dtype: object\n"
     ]
    },
    {
     "data": {
      "text/plain": [
       "embedding\n",
       "None        [83.6652]\n",
       "fasttext    [86.8183]\n",
       "sentbert    [89.1821]\n",
       "Name: fscore/labels, dtype: object"
      ]
     },
     "execution_count": 342,
     "metadata": {},
     "output_type": "execute_result"
    }
   ],
   "source": [
    "col = 'fscore/labels'\n",
    "temp_df = df[(df.num_embedding_passes.isin(['None', '4.0'])) & (df.max_overlap_percent!='1')]\n",
    "t_df = temp_df[temp_df.fe_type == 'default']\n",
    "\n",
    "print(t_df[t_df.with_negative_label==False].groupby('embedding')[col].unique(),'\\n\\n',\n",
    "      t_df[t_df.with_negative_label==True].groupby('embedding')[col].unique())\n",
    "\n",
    "t_df.groupby('embedding')[col].unique()\n"
   ]
  },
  {
   "cell_type": "code",
   "execution_count": 343,
   "metadata": {},
   "outputs": [
    {
     "name": "stdout",
     "output_type": "stream",
     "text": [
      "embedding\n",
      "None        [83.4673]\n",
      "fasttext     [86.745]\n",
      "sentbert    [89.2651]\n",
      "Name: fscore/selected_labels, dtype: object \n",
      "\n",
      " embedding\n",
      "None        [83.6652]\n",
      "fasttext    [86.8183]\n",
      "sentbert    [89.1821]\n",
      "Name: fscore/selected_labels, dtype: object\n"
     ]
    },
    {
     "data": {
      "text/plain": [
       "embedding\n",
       "None        [83.6652, 83.4673]\n",
       "fasttext     [86.8183, 86.745]\n",
       "sentbert    [89.1821, 89.2651]\n",
       "Name: fscore/selected_labels, dtype: object"
      ]
     },
     "execution_count": 343,
     "metadata": {},
     "output_type": "execute_result"
    }
   ],
   "source": [
    "col = 'fscore/selected_labels'\n",
    "temp_df = df[(df.num_embedding_passes.isin(['None', '4.0'])) & (df.max_overlap_percent!='1')]\n",
    "t_df = temp_df[temp_df.fe_type == 'default']\n",
    "\n",
    "print(t_df[t_df.with_negative_label==False].groupby('embedding')[col].unique(),'\\n\\n',\n",
    "      t_df[t_df.with_negative_label==True].groupby('embedding')[col].unique())\n",
    "\n",
    "t_df.groupby('embedding')[col].unique()\n"
   ]
  },
  {
   "cell_type": "code",
   "execution_count": 344,
   "metadata": {},
   "outputs": [
    {
     "name": "stdout",
     "output_type": "stream",
     "text": [
      "embedding\n",
      "None        [30.0971]\n",
      "fasttext    [26.3158]\n",
      "sentbert     [33.121]\n",
      "Name: outlier_precision/labels, dtype: object \n",
      "\n",
      " embedding\n",
      "None        [30.0971]\n",
      "fasttext    [26.3158]\n",
      "sentbert     [33.121]\n",
      "Name: outlier_precision/labels, dtype: object\n"
     ]
    },
    {
     "data": {
      "text/plain": [
       "embedding\n",
       "None        [30.0971]\n",
       "fasttext    [26.3158]\n",
       "sentbert     [33.121]\n",
       "Name: outlier_precision/labels, dtype: object"
      ]
     },
     "execution_count": 344,
     "metadata": {},
     "output_type": "execute_result"
    }
   ],
   "source": [
    "col = 'outlier_precision/labels'\n",
    "temp_df = df[(df.num_embedding_passes.isin(['None', '4.0'])) & (df.max_overlap_percent!='1')]\n",
    "t_df = temp_df[temp_df.fe_type == 'default']\n",
    "\n",
    "print(t_df[t_df.with_negative_label==False].groupby('embedding')[col].unique(),'\\n\\n',\n",
    "      t_df[t_df.with_negative_label==True].groupby('embedding')[col].unique())\n",
    "\n",
    "t_df.groupby('embedding')[col].unique()\n"
   ]
  },
  {
   "cell_type": "code",
   "execution_count": 366,
   "metadata": {},
   "outputs": [
    {
     "name": "stdout",
     "output_type": "stream",
     "text": [
      "embedding\n",
      "None        [78.0733]\n",
      "fasttext    [79.9058]\n",
      "sentbert    [81.5776]\n",
      "Name: precison/labels, dtype: object \n",
      "\n",
      " embedding\n",
      "None        [78.0733]\n",
      "fasttext    [79.9058]\n",
      "sentbert    [81.5776]\n",
      "Name: precison/labels, dtype: object\n"
     ]
    },
    {
     "data": {
      "text/plain": [
       "embedding\n",
       "None        [78.0733]\n",
       "fasttext    [79.9058]\n",
       "sentbert    [81.5776]\n",
       "Name: precison/labels, dtype: object"
      ]
     },
     "execution_count": 366,
     "metadata": {},
     "output_type": "execute_result"
    }
   ],
   "source": [
    "col = 'precison/labels'\n",
    "temp_df = df[(df.num_embedding_passes.isin(['None', '4.0'])) & (df.max_overlap_percent!='1')]\n",
    "t_df = temp_df[temp_df.fe_type == 'default']\n",
    "\n",
    "print(t_df[t_df.with_negative_label==False].groupby('embedding')[col].unique(),'\\n\\n',\n",
    "      t_df[t_df.with_negative_label==True].groupby('embedding')[col].unique())\n",
    "\n",
    "t_df.groupby('embedding')[col].unique()\n"
   ]
  },
  {
   "cell_type": "code",
   "execution_count": 367,
   "metadata": {},
   "outputs": [
    {
     "name": "stdout",
     "output_type": "stream",
     "text": [
      "embedding\n",
      "None        [77.9388]\n",
      "fasttext    [79.6553]\n",
      "sentbert    [81.7305]\n",
      "Name: precison/selected_labels, dtype: object \n",
      "\n",
      " embedding\n",
      "None        [78.0733]\n",
      "fasttext    [79.9058]\n",
      "sentbert    [81.5776]\n",
      "Name: precison/selected_labels, dtype: object\n"
     ]
    },
    {
     "data": {
      "text/plain": [
       "embedding\n",
       "None        [78.0733, 77.9388]\n",
       "fasttext    [79.9058, 79.6553]\n",
       "sentbert    [81.5776, 81.7305]\n",
       "Name: precison/selected_labels, dtype: object"
      ]
     },
     "execution_count": 367,
     "metadata": {},
     "output_type": "execute_result"
    }
   ],
   "source": [
    "col = 'precison/selected_labels'\n",
    "temp_df = df[(df.num_embedding_passes.isin(['None', '4.0'])) & (df.max_overlap_percent!='1')]\n",
    "t_df = temp_df[temp_df.fe_type == 'default']\n",
    "\n",
    "print(t_df[t_df.with_negative_label==False].groupby('embedding')[col].unique(),'\\n\\n',\n",
    "      t_df[t_df.with_negative_label==True].groupby('embedding')[col].unique())\n",
    "\n",
    "t_df.groupby('embedding')[col].unique()\n"
   ]
  },
  {
   "cell_type": "code",
   "execution_count": 370,
   "metadata": {},
   "outputs": [
    {
     "name": "stdout",
     "output_type": "stream",
     "text": [
      "embedding\n",
      "None        [90.12]\n",
      "fasttext    [95.04]\n",
      "sentbert    [98.35]\n",
      "Name: recall/labels, dtype: object \n",
      "\n",
      " embedding\n",
      "None        [90.12]\n",
      "fasttext    [95.04]\n",
      "sentbert    [98.35]\n",
      "Name: recall/labels, dtype: object\n"
     ]
    },
    {
     "data": {
      "text/plain": [
       "embedding\n",
       "None        [90.12]\n",
       "fasttext    [95.04]\n",
       "sentbert    [98.35]\n",
       "Name: recall/labels, dtype: object"
      ]
     },
     "execution_count": 370,
     "metadata": {},
     "output_type": "execute_result"
    }
   ],
   "source": [
    "col = 'recall/labels'\n",
    "temp_df = df[(df.num_embedding_passes.isin(['None', '4.0'])) & (df.max_overlap_percent!='1')]\n",
    "t_df = temp_df[temp_df.fe_type == 'default']\n",
    "\n",
    "print(t_df[t_df.with_negative_label==False].groupby('embedding')[col].unique(),'\\n\\n',\n",
    "      t_df[t_df.with_negative_label==True].groupby('embedding')[col].unique())\n",
    "\n",
    "t_df.groupby('embedding')[col].unique()\n"
   ]
  },
  {
   "cell_type": "code",
   "execution_count": 369,
   "metadata": {},
   "outputs": [
    {
     "name": "stdout",
     "output_type": "stream",
     "text": [
      "embedding\n",
      "None        [89.84]\n",
      "fasttext    [95.22]\n",
      "sentbert    [98.33]\n",
      "Name: recall/selected_labels, dtype: object \n",
      "\n",
      " embedding\n",
      "None        [90.12]\n",
      "fasttext    [95.04]\n",
      "sentbert    [98.35]\n",
      "Name: recall/selected_labels, dtype: object\n"
     ]
    },
    {
     "data": {
      "text/plain": [
       "embedding\n",
       "None        [90.12, 89.84]\n",
       "fasttext    [95.04, 95.22]\n",
       "sentbert    [98.35, 98.33]\n",
       "Name: recall/selected_labels, dtype: object"
      ]
     },
     "execution_count": 369,
     "metadata": {},
     "output_type": "execute_result"
    }
   ],
   "source": [
    "col = 'recall/selected_labels'\n",
    "temp_df = df[(df.num_embedding_passes.isin(['None', '4.0'])) & (df.max_overlap_percent!='1')]\n",
    "t_df = temp_df[temp_df.fe_type == 'default']\n",
    "\n",
    "print(t_df[t_df.with_negative_label==False].groupby('embedding')[col].unique(),'\\n\\n',\n",
    "      t_df[t_df.with_negative_label==True].groupby('embedding')[col].unique())\n",
    "\n",
    "t_df.groupby('embedding')[col].unique()\n"
   ]
  },
  {
   "cell_type": "code",
   "execution_count": null,
   "metadata": {},
   "outputs": [],
   "source": [
    ","
   ]
  },
  {
   "cell_type": "code",
   "execution_count": 372,
   "metadata": {},
   "outputs": [
    {
     "name": "stdout",
     "output_type": "stream",
     "text": [
      "embedding\n",
      "None        [74.69]\n",
      "fasttext     [76.1]\n",
      "sentbert    [77.79]\n",
      "Name: tnr/labels, dtype: object \n",
      "\n",
      " embedding\n",
      "None        [74.69]\n",
      "fasttext     [76.1]\n",
      "sentbert    [77.79]\n",
      "Name: tnr/labels, dtype: object\n"
     ]
    },
    {
     "data": {
      "text/plain": [
       "embedding\n",
       "None        [74.69]\n",
       "fasttext     [76.1]\n",
       "sentbert    [77.79]\n",
       "Name: tnr/labels, dtype: object"
      ]
     },
     "execution_count": 372,
     "metadata": {},
     "output_type": "execute_result"
    }
   ],
   "source": [
    "col = 'tnr/labels'\n",
    "temp_df = df[(df.num_embedding_passes.isin(['None', '4.0'])) & (df.max_overlap_percent!='1')]\n",
    "t_df = temp_df[temp_df.fe_type == 'default']\n",
    "\n",
    "print(t_df[t_df.with_negative_label==False].groupby('embedding')[col].unique(),'\\n\\n',\n",
    "      t_df[t_df.with_negative_label==True].groupby('embedding')[col].unique())\n",
    "\n",
    "t_df.groupby('embedding')[col].unique()\n"
   ]
  },
  {
   "cell_type": "code",
   "execution_count": 373,
   "metadata": {},
   "outputs": [
    {
     "name": "stdout",
     "output_type": "stream",
     "text": [
      "embedding\n",
      "None        [74.57]\n",
      "fasttext    [75.68]\n",
      "sentbert    [78.02]\n",
      "Name: tnr/selected_labels, dtype: object \n",
      "\n",
      " embedding\n",
      "None        [74.69]\n",
      "fasttext     [76.1]\n",
      "sentbert    [77.79]\n",
      "Name: tnr/selected_labels, dtype: object\n"
     ]
    },
    {
     "data": {
      "text/plain": [
       "embedding\n",
       "None        [74.69, 74.57]\n",
       "fasttext     [76.1, 75.68]\n",
       "sentbert    [77.79, 78.02]\n",
       "Name: tnr/selected_labels, dtype: object"
      ]
     },
     "execution_count": 373,
     "metadata": {},
     "output_type": "execute_result"
    }
   ],
   "source": [
    "col = 'tnr/selected_labels'\n",
    "temp_df = df[(df.num_embedding_passes.isin(['None', '4.0'])) & (df.max_overlap_percent!='1')]\n",
    "t_df = temp_df[temp_df.fe_type == 'default']\n",
    "\n",
    "print(t_df[t_df.with_negative_label==False].groupby('embedding')[col].unique(),'\\n\\n',\n",
    "      t_df[t_df.with_negative_label==True].groupby('embedding')[col].unique())\n",
    "\n",
    "t_df.groupby('embedding')[col].unique()\n"
   ]
  },
  {
   "cell_type": "code",
   "execution_count": null,
   "metadata": {},
   "outputs": [],
   "source": []
  },
  {
   "cell_type": "code",
   "execution_count": null,
   "metadata": {},
   "outputs": [],
   "source": []
  },
  {
   "cell_type": "code",
   "execution_count": 346,
   "metadata": {},
   "outputs": [
    {
     "name": "stdout",
     "output_type": "stream",
     "text": [
      "embedding\n",
      "None        [83.4673]\n",
      "fasttext     [86.745]\n",
      "sentbert    [89.2651]\n",
      "Name: fscore/selected_labels, dtype: object \n",
      "\n",
      " embedding\n",
      "None        [83.6652]\n",
      "fasttext    [86.8183]\n",
      "sentbert    [89.1821]\n",
      "Name: fscore/selected_labels, dtype: object\n"
     ]
    },
    {
     "data": {
      "text/plain": [
       "embedding\n",
       "None        [83.6652, 83.4673]\n",
       "fasttext     [86.8183, 86.745]\n",
       "sentbert    [89.1821, 89.2651]\n",
       "Name: fscore/selected_labels, dtype: object"
      ]
     },
     "execution_count": 346,
     "metadata": {},
     "output_type": "execute_result"
    }
   ],
   "source": [
    "## plots\n",
    "\n",
    "def plot(res_map, ylabel='Absent features %'):\n",
    "    k = list(res_map.keys())[0]\n",
    "    \n",
    "    x = list(range(len(res_map[k])))\n",
    "\n",
    "    for name, values in res_map.items():\n",
    "        plt.plot(x, values, label = name)\n",
    "\n",
    "    plt.ylabel(ylabel)\n",
    "    plt.legend()\n",
    "    plt.show()\n",
    "\n",
    "col = 'fscore/selected_labels'\n",
    "temp_df = df[(df.num_embedding_passes.isin(['None', '4.0'])) & (df.max_overlap_percent!='1')]\n",
    "t_df = temp_df[temp_df.fe_type == 'default']\n",
    "\n",
    "falses = t_df[t_df.with_negative_label==False].groupby('embedding')[col].max()\n",
    "trues = t_df[t_df.with_negative_label==True].groupby('embedding')[col].max()\n",
    "\n",
    "t_df.groupby('embedding')[col].unique()\n"
   ]
  },
  {
   "cell_type": "code",
   "execution_count": 371,
   "metadata": {},
   "outputs": [
    {
     "data": {
      "text/plain": [
       "['accuracy/labels',\n",
       " 'accuracy/selected_labels',\n",
       " 'fscore/labels',\n",
       " 'fscore/selected_labels',\n",
       " 'outlier_precision/labels',\n",
       " 'outlier_precision/selected_labels',\n",
       " 'precison/labels',\n",
       " 'precison/selected_labels',\n",
       " 'recall/labels',\n",
       " 'recall/selected_labels']"
      ]
     },
     "execution_count": 371,
     "metadata": {},
     "output_type": "execute_result"
    }
   ],
   "source": [
    "metrics_cols"
   ]
  },
  {
   "cell_type": "code",
   "execution_count": null,
   "metadata": {},
   "outputs": [],
   "source": []
  },
  {
   "cell_type": "code",
   "execution_count": null,
   "metadata": {},
   "outputs": [],
   "source": []
  },
  {
   "cell_type": "code",
   "execution_count": 352,
   "metadata": {},
   "outputs": [
    {
     "data": {
      "image/png": "[encoded data removed]",
      "text/plain": [
       "<Figure size 432x288 with 1 Axes>"
      ]
     },
     "metadata": {
      "needs_background": "light"
     },
     "output_type": "display_data"
    }
   ],
   "source": [
    "plt.hist(falses)\n",
    "plt.hist(trues)\n",
    "#plt.legend()\n",
    "plt.show()"
   ]
  },
  {
   "cell_type": "code",
   "execution_count": 356,
   "metadata": {},
   "outputs": [
    {
     "data": {
      "text/plain": [
       "<matplotlib.axes._subplots.AxesSubplot at 0x13dbdf150>"
      ]
     },
     "execution_count": 356,
     "metadata": {},
     "output_type": "execute_result"
    },
    {
     "data": {
      "image/png": "[encoded data removed]",
      "text/plain": [
       "<Figure size 432x288 with 1 Axes>"
      ]
     },
     "metadata": {},
     "output_type": "display_data"
    }
   ],
   "source": [
    "import seaborn as sns\n",
    "head = falses#t_df.groupby('embedding')[col].unique()\n",
    "sns.set(style=\"whitegrid\")\n",
    "sns.barplot(head.index, head.values)\n"
   ]
  },
  {
   "cell_type": "code",
   "execution_count": null,
   "metadata": {},
   "outputs": [],
   "source": []
  },
  {
   "cell_type": "code",
   "execution_count": null,
   "metadata": {},
   "outputs": [],
   "source": []
  },
  {
   "cell_type": "code",
   "execution_count": null,
   "metadata": {},
   "outputs": [],
   "source": []
  },
  {
   "cell_type": "code",
   "execution_count": 59,
   "metadata": {},
   "outputs": [
    {
     "data": {
      "text/html": [
       "<div>\n",
       "<style scoped>\n",
       "    .dataframe tbody tr th:only-of-type {\n",
       "        vertical-align: middle;\n",
       "    }\n",
       "\n",
       "    .dataframe tbody tr th {\n",
       "        vertical-align: top;\n",
       "    }\n",
       "\n",
       "    .dataframe thead th {\n",
       "        text-align: right;\n",
       "    }\n",
       "</style>\n",
       "<table border=\"1\" class=\"dataframe\">\n",
       "  <thead>\n",
       "    <tr style=\"text-align: right;\">\n",
       "      <th></th>\n",
       "      <th>embedding</th>\n",
       "      <th>fe_type</th>\n",
       "      <th>max_features_frac</th>\n",
       "      <th>max_labels_per_doc</th>\n",
       "      <th>max_overlap_percent</th>\n",
       "      <th>neg_pairs/labels</th>\n",
       "      <th>neg_pairs/selected_labels</th>\n",
       "      <th>num_embedding_passes</th>\n",
       "      <th>outlier_threshold</th>\n",
       "      <th>pos_pairs/labels</th>\n",
       "      <th>...</th>\n",
       "      <th>positive_label_in_total</th>\n",
       "      <th>precison/labels</th>\n",
       "      <th>precison/selected_labels</th>\n",
       "      <th>recall/labels</th>\n",
       "      <th>recall/selected_labels</th>\n",
       "      <th>selected_features_count</th>\n",
       "      <th>singleton_clusters_count</th>\n",
       "      <th>tnr/labels</th>\n",
       "      <th>tnr/selected_labels</th>\n",
       "      <th>unassigned_doc_percent</th>\n",
       "    </tr>\n",
       "  </thead>\n",
       "  <tbody>\n",
       "    <tr>\n",
       "      <th>0</th>\n",
       "      <td>sentbert</td>\n",
       "      <td>default</td>\n",
       "      <td>0.2</td>\n",
       "      <td>32</td>\n",
       "      <td>4</td>\n",
       "      <td>10000</td>\n",
       "      <td>10000</td>\n",
       "      <td>4.0</td>\n",
       "      <td>3</td>\n",
       "      <td>10000</td>\n",
       "      <td>...</td>\n",
       "      <td>89.645</td>\n",
       "      <td>81.5776</td>\n",
       "      <td>81.5776</td>\n",
       "      <td>98.35</td>\n",
       "      <td>98.35</td>\n",
       "      <td>111</td>\n",
       "      <td>157</td>\n",
       "      <td>77.79</td>\n",
       "      <td>77.79</td>\n",
       "      <td>8.088614</td>\n",
       "    </tr>\n",
       "    <tr>\n",
       "      <th>1</th>\n",
       "      <td>sentbert</td>\n",
       "      <td>default</td>\n",
       "      <td>0.15</td>\n",
       "      <td>32</td>\n",
       "      <td>4</td>\n",
       "      <td>10000</td>\n",
       "      <td>10000</td>\n",
       "      <td>4.0</td>\n",
       "      <td>3</td>\n",
       "      <td>10000</td>\n",
       "      <td>...</td>\n",
       "      <td>89.645</td>\n",
       "      <td>81.5776</td>\n",
       "      <td>81.5776</td>\n",
       "      <td>98.35</td>\n",
       "      <td>98.35</td>\n",
       "      <td>111</td>\n",
       "      <td>157</td>\n",
       "      <td>77.79</td>\n",
       "      <td>77.79</td>\n",
       "      <td>8.088614</td>\n",
       "    </tr>\n",
       "    <tr>\n",
       "      <th>2</th>\n",
       "      <td>sentbert</td>\n",
       "      <td>default</td>\n",
       "      <td>0.1</td>\n",
       "      <td>32</td>\n",
       "      <td>4</td>\n",
       "      <td>10000</td>\n",
       "      <td>10000</td>\n",
       "      <td>4.0</td>\n",
       "      <td>3</td>\n",
       "      <td>10000</td>\n",
       "      <td>...</td>\n",
       "      <td>89.645</td>\n",
       "      <td>81.5776</td>\n",
       "      <td>81.5776</td>\n",
       "      <td>98.35</td>\n",
       "      <td>98.35</td>\n",
       "      <td>111</td>\n",
       "      <td>157</td>\n",
       "      <td>77.79</td>\n",
       "      <td>77.79</td>\n",
       "      <td>8.088614</td>\n",
       "    </tr>\n",
       "    <tr>\n",
       "      <th>3</th>\n",
       "      <td>sentbert</td>\n",
       "      <td>default</td>\n",
       "      <td>None</td>\n",
       "      <td>32</td>\n",
       "      <td>4</td>\n",
       "      <td>10000</td>\n",
       "      <td>10000</td>\n",
       "      <td>4.0</td>\n",
       "      <td>3</td>\n",
       "      <td>10000</td>\n",
       "      <td>...</td>\n",
       "      <td>89.645</td>\n",
       "      <td>81.5776</td>\n",
       "      <td>81.5776</td>\n",
       "      <td>98.35</td>\n",
       "      <td>98.35</td>\n",
       "      <td>111</td>\n",
       "      <td>157</td>\n",
       "      <td>77.79</td>\n",
       "      <td>77.79</td>\n",
       "      <td>8.088614</td>\n",
       "    </tr>\n",
       "    <tr>\n",
       "      <th>4</th>\n",
       "      <td>sentbert</td>\n",
       "      <td>default</td>\n",
       "      <td>0.2</td>\n",
       "      <td>24</td>\n",
       "      <td>3</td>\n",
       "      <td>10000</td>\n",
       "      <td>10000</td>\n",
       "      <td>4.0</td>\n",
       "      <td>3</td>\n",
       "      <td>10000</td>\n",
       "      <td>...</td>\n",
       "      <td>89.645</td>\n",
       "      <td>81.5776</td>\n",
       "      <td>81.5776</td>\n",
       "      <td>98.35</td>\n",
       "      <td>98.35</td>\n",
       "      <td>111</td>\n",
       "      <td>157</td>\n",
       "      <td>77.79</td>\n",
       "      <td>77.79</td>\n",
       "      <td>8.088614</td>\n",
       "    </tr>\n",
       "  </tbody>\n",
       "</table>\n",
       "<p>5 rows × 46 columns</p>\n",
       "</div>"
      ],
      "text/plain": [
       "  embedding  fe_type max_features_frac max_labels_per_doc max_overlap_percent  \\\n",
       "0  sentbert  default               0.2                 32                   4   \n",
       "1  sentbert  default              0.15                 32                   4   \n",
       "2  sentbert  default               0.1                 32                   4   \n",
       "3  sentbert  default              None                 32                   4   \n",
       "4  sentbert  default               0.2                 24                   3   \n",
       "\n",
       "   neg_pairs/labels  neg_pairs/selected_labels  num_embedding_passes  \\\n",
       "0             10000                      10000                   4.0   \n",
       "1             10000                      10000                   4.0   \n",
       "2             10000                      10000                   4.0   \n",
       "3             10000                      10000                   4.0   \n",
       "4             10000                      10000                   4.0   \n",
       "\n",
       "   outlier_threshold  pos_pairs/labels  ...  positive_label_in_total  \\\n",
       "0                  3             10000  ...                   89.645   \n",
       "1                  3             10000  ...                   89.645   \n",
       "2                  3             10000  ...                   89.645   \n",
       "3                  3             10000  ...                   89.645   \n",
       "4                  3             10000  ...                   89.645   \n",
       "\n",
       "   precison/labels  precison/selected_labels  recall/labels  \\\n",
       "0          81.5776                   81.5776          98.35   \n",
       "1          81.5776                   81.5776          98.35   \n",
       "2          81.5776                   81.5776          98.35   \n",
       "3          81.5776                   81.5776          98.35   \n",
       "4          81.5776                   81.5776          98.35   \n",
       "\n",
       "   recall/selected_labels  selected_features_count  singleton_clusters_count  \\\n",
       "0                   98.35                      111                       157   \n",
       "1                   98.35                      111                       157   \n",
       "2                   98.35                      111                       157   \n",
       "3                   98.35                      111                       157   \n",
       "4                   98.35                      111                       157   \n",
       "\n",
       "   tnr/labels  tnr/selected_labels  unassigned_doc_percent  \n",
       "0       77.79                77.79                8.088614  \n",
       "1       77.79                77.79                8.088614  \n",
       "2       77.79                77.79                8.088614  \n",
       "3       77.79                77.79                8.088614  \n",
       "4       77.79                77.79                8.088614  \n",
       "\n",
       "[5 rows x 46 columns]"
      ]
     },
     "execution_count": 59,
     "metadata": {},
     "output_type": "execute_result"
    }
   ],
   "source": [
    "df = df[['embedding', 'fe_type',\n",
    "       'max_features_frac', 'max_labels_per_doc', 'max_overlap_percent',\n",
    "       'neg_pairs/labels', 'neg_pairs/selected_labels', 'num_embedding_passes',\n",
    "       'outlier_threshold', 'pos_pairs/labels', 'pos_pairs/selected_labels',\n",
    "       'total_documents', 'total_pairs/labels', 'total_pairs/selected_labels',\n",
    "       'with_negative_label', 'absent_features/labels',\n",
    "       'absent_features/selected_labels', 'accuracy/labels',\n",
    "       'accuracy/selected_labels', 'assigned_doc_percent', 'clusters_count',\n",
    "       'disconnected_clusters/labels', 'disconnected_clusters/selected_labels',\n",
    "       'embedding_clusters_count', 'embedding_singular_features',\n",
    "       'fscore/labels', 'fscore/selected_labels', 'initial_features',\n",
    "       'noisy_docs', 'outlier_fpr/labels', 'outlier_fpr/selected_labels',\n",
    "       'outlier_precision/labels', 'outlier_precision/selected_labels',\n",
    "       'outlier_predicted/labels', 'outlier_predicted/selected_labels',\n",
    "       'positive_label_in_assigned', 'positive_label_in_total',\n",
    "       'precison/labels', 'precison/selected_labels', 'recall/labels',\n",
    "       'recall/selected_labels', 'selected_features_count',\n",
    "       'singleton_clusters_count', 'tnr/labels', 'tnr/selected_labels',\n",
    "       'unassigned_doc_percent']]\n",
    "df.head()\n"
   ]
  },
  {
   "cell_type": "code",
   "execution_count": 60,
   "metadata": {
    "scrolled": true
   },
   "outputs": [
    {
     "data": {
      "text/plain": [
       "embedding                                 0\n",
       "fe_type                                   0\n",
       "max_features_frac                         0\n",
       "max_labels_per_doc                        0\n",
       "max_overlap_percent                       0\n",
       "neg_pairs/labels                          0\n",
       "neg_pairs/selected_labels                 0\n",
       "num_embedding_passes                     80\n",
       "outlier_threshold                         0\n",
       "pos_pairs/labels                          0\n",
       "pos_pairs/selected_labels                 0\n",
       "total_documents                           0\n",
       "total_pairs/labels                        0\n",
       "total_pairs/selected_labels               0\n",
       "with_negative_label                       0\n",
       "absent_features/labels                    0\n",
       "absent_features/selected_labels           0\n",
       "accuracy/labels                           0\n",
       "accuracy/selected_labels                  0\n",
       "assigned_doc_percent                      0\n",
       "clusters_count                            0\n",
       "disconnected_clusters/labels              0\n",
       "disconnected_clusters/selected_labels     0\n",
       "embedding_clusters_count                 80\n",
       "embedding_singular_features              80\n",
       "fscore/labels                             0\n",
       "fscore/selected_labels                    0\n",
       "initial_features                          0\n",
       "noisy_docs                                0\n",
       "outlier_fpr/labels                        0\n",
       "outlier_fpr/selected_labels               0\n",
       "outlier_precision/labels                  0\n",
       "outlier_precision/selected_labels         0\n",
       "outlier_predicted/labels                  0\n",
       "outlier_predicted/selected_labels         0\n",
       "positive_label_in_assigned                0\n",
       "positive_label_in_total                   0\n",
       "precison/labels                           0\n",
       "precison/selected_labels                  0\n",
       "recall/labels                             0\n",
       "recall/selected_labels                    0\n",
       "selected_features_count                   0\n",
       "singleton_clusters_count                  0\n",
       "tnr/labels                                0\n",
       "tnr/selected_labels                       0\n",
       "unassigned_doc_percent                    0\n",
       "dtype: int64"
      ]
     },
     "execution_count": 60,
     "metadata": {},
     "output_type": "execute_result"
    }
   ],
   "source": [
    "df.isna().sum()"
   ]
  },
  {
   "cell_type": "code",
   "execution_count": 25,
   "metadata": {},
   "outputs": [
    {
     "data": {
      "text/plain": [
       "Index(['embedding', 'fe_type', 'max_features_frac', 'max_labels_per_doc',\n",
       "       'max_overlap_percent', 'neg_pairs/labels', 'neg_pairs/selected_labels',\n",
       "       'num_embedding_passes', 'outlier_threshold', 'pos_pairs/labels',\n",
       "       'pos_pairs/selected_labels', 'total_documents', 'total_pairs/labels',\n",
       "       'total_pairs/selected_labels', 'with_negative_label',\n",
       "       'absent_features/labels', 'absent_features/selected_labels',\n",
       "       'accuracy/labels', 'accuracy/selected_labels', 'assigned_doc_percent',\n",
       "       'clusters_count', 'disconnected_clusters/labels',\n",
       "       'disconnected_clusters/selected_labels', 'embedding_clusters_count',\n",
       "       'embedding_singular_features', 'fscore/labels',\n",
       "       'fscore/selected_labels', 'initial_features', 'noisy_docs',\n",
       "       'outlier_fpr/labels', 'outlier_fpr/selected_labels',\n",
       "       'outlier_precision/labels', 'outlier_precision/selected_labels',\n",
       "       'outlier_predicted/labels', 'outlier_predicted/selected_labels',\n",
       "       'positive_label_in_assigned', 'positive_label_in_total',\n",
       "       'precison/labels', 'precison/selected_labels', 'recall/labels',\n",
       "       'recall/selected_labels', 'selected_features_count',\n",
       "       'singleton_clusters_count', 'tnr/labels', 'tnr/selected_labels',\n",
       "       'unassigned_doc_percent'],\n",
       "      dtype='object')"
      ]
     },
     "execution_count": 25,
     "metadata": {},
     "output_type": "execute_result"
    }
   ],
   "source": [
    "df.columns"
   ]
  },
  {
   "cell_type": "code",
   "execution_count": 96,
   "metadata": {},
   "outputs": [],
   "source": [
    "df = df.fillna('None') #.isna().sum()"
   ]
  },
  {
   "cell_type": "code",
   "execution_count": 27,
   "metadata": {},
   "outputs": [],
   "source": [
    "input_col = ['embedding','num_embedding_passes', 'fe_type', 'max_features_frac', 'max_overlap_percent', 'with_negative_label']"
   ]
  },
  {
   "cell_type": "code",
   "execution_count": 6,
   "metadata": {},
   "outputs": [],
   "source": [
    "feat_pred_cols = ['absent_features/labels', 'absent_features/selected_labels', 'assigned_doc_percent']\n",
    "metrics_cols =  ['accuracy/labels','accuracy/selected_labels', 'fscore/labels', 'fscore/selected_labels','outlier_precision/labels', \\\n",
    "                 'outlier_precision/selected_labels', 'precison/labels', 'precison/selected_labels', 'recall/labels',\\\n",
    "                'recall/selected_labels']"
   ]
  },
  {
   "cell_type": "code",
   "execution_count": 80,
   "metadata": {},
   "outputs": [
    {
     "data": {
      "text/plain": [
       "array(['0.2', '0.15', '0.1', 'None'], dtype=object)"
      ]
     },
     "execution_count": 80,
     "metadata": {},
     "output_type": "execute_result"
    }
   ],
   "source": [
    "df.max_features_frac.unique()"
   ]
  },
  {
   "cell_type": "code",
   "execution_count": 81,
   "metadata": {},
   "outputs": [
    {
     "data": {
      "text/plain": [
       "array(['sentbert', 'fasttext', 'None'], dtype=object)"
      ]
     },
     "execution_count": 81,
     "metadata": {},
     "output_type": "execute_result"
    }
   ],
   "source": [
    "df.embedding.unique()"
   ]
  },
  {
   "cell_type": "code",
   "execution_count": 39,
   "metadata": {},
   "outputs": [
    {
     "data": {
      "text/plain": [
       "1"
      ]
     },
     "execution_count": 39,
     "metadata": {},
     "output_type": "execute_result"
    }
   ],
   "source": [
    "df.groupby(input_col)['absent_features/labels'].count().max()"
   ]
  },
  {
   "cell_type": "code",
   "execution_count": 40,
   "metadata": {},
   "outputs": [
    {
     "name": "stdout",
     "output_type": "stream",
     "text": [
      "absent_features/labels :  1\n",
      "absent_features/selected_labels :  1\n",
      "assigned_doc_percent :  1\n",
      "accuracy/labels :  1\n",
      "accuracy/selected_labels :  1\n",
      "fscore/labels :  1\n",
      "fscore/selected_labels :  1\n",
      "outlier_precision/labels :  1\n",
      "outlier_precision/selected_labels :  1\n",
      "precison/labels :  1\n",
      "precison/selected_labels :  1\n",
      "recall/labels :  1\n",
      "recall/selected_labels :  1\n"
     ]
    }
   ],
   "source": [
    "for out_col in feat_pred_cols+metrics_cols:\n",
    "    print(out_col, ': ', df.groupby(input_col)[out_col].count().max())"
   ]
  },
  {
   "cell_type": "code",
   "execution_count": 37,
   "metadata": {},
   "outputs": [
    {
     "data": {
      "text/html": [
       "<div>\n",
       "<style scoped>\n",
       "    .dataframe tbody tr th:only-of-type {\n",
       "        vertical-align: middle;\n",
       "    }\n",
       "\n",
       "    .dataframe tbody tr th {\n",
       "        vertical-align: top;\n",
       "    }\n",
       "\n",
       "    .dataframe thead th {\n",
       "        text-align: right;\n",
       "    }\n",
       "</style>\n",
       "<table border=\"1\" class=\"dataframe\">\n",
       "  <thead>\n",
       "    <tr style=\"text-align: right;\">\n",
       "      <th></th>\n",
       "      <th>embedding</th>\n",
       "      <th>num_embedding_passes</th>\n",
       "      <th>fe_type</th>\n",
       "      <th>max_features_frac</th>\n",
       "      <th>max_overlap_percent</th>\n",
       "      <th>with_negative_label</th>\n",
       "      <th>absent_features/labels</th>\n",
       "    </tr>\n",
       "  </thead>\n",
       "  <tbody>\n",
       "    <tr>\n",
       "      <th>0</th>\n",
       "      <td>fasttext</td>\n",
       "      <td>3.0</td>\n",
       "      <td>default</td>\n",
       "      <td>0.1</td>\n",
       "      <td>1</td>\n",
       "      <td>False</td>\n",
       "      <td>17.1046</td>\n",
       "    </tr>\n",
       "    <tr>\n",
       "      <th>1</th>\n",
       "      <td>fasttext</td>\n",
       "      <td>3.0</td>\n",
       "      <td>default</td>\n",
       "      <td>0.1</td>\n",
       "      <td>1</td>\n",
       "      <td>True</td>\n",
       "      <td>17.1046</td>\n",
       "    </tr>\n",
       "    <tr>\n",
       "      <th>2</th>\n",
       "      <td>fasttext</td>\n",
       "      <td>3.0</td>\n",
       "      <td>default</td>\n",
       "      <td>0.1</td>\n",
       "      <td>2</td>\n",
       "      <td>False</td>\n",
       "      <td>17.1046</td>\n",
       "    </tr>\n",
       "    <tr>\n",
       "      <th>3</th>\n",
       "      <td>fasttext</td>\n",
       "      <td>3.0</td>\n",
       "      <td>default</td>\n",
       "      <td>0.1</td>\n",
       "      <td>2</td>\n",
       "      <td>True</td>\n",
       "      <td>17.1046</td>\n",
       "    </tr>\n",
       "    <tr>\n",
       "      <th>4</th>\n",
       "      <td>fasttext</td>\n",
       "      <td>3.0</td>\n",
       "      <td>default</td>\n",
       "      <td>0.1</td>\n",
       "      <td>3</td>\n",
       "      <td>False</td>\n",
       "      <td>17.1046</td>\n",
       "    </tr>\n",
       "    <tr>\n",
       "      <th>...</th>\n",
       "      <td>...</td>\n",
       "      <td>...</td>\n",
       "      <td>...</td>\n",
       "      <td>...</td>\n",
       "      <td>...</td>\n",
       "      <td>...</td>\n",
       "      <td>...</td>\n",
       "    </tr>\n",
       "    <tr>\n",
       "      <th>290</th>\n",
       "      <td>sentbert</td>\n",
       "      <td>4.0</td>\n",
       "      <td>ticket</td>\n",
       "      <td>None</td>\n",
       "      <td>2</td>\n",
       "      <td>False</td>\n",
       "      <td>5.5356</td>\n",
       "    </tr>\n",
       "    <tr>\n",
       "      <th>291</th>\n",
       "      <td>sentbert</td>\n",
       "      <td>4.0</td>\n",
       "      <td>ticket</td>\n",
       "      <td>None</td>\n",
       "      <td>3</td>\n",
       "      <td>False</td>\n",
       "      <td>5.5356</td>\n",
       "    </tr>\n",
       "    <tr>\n",
       "      <th>292</th>\n",
       "      <td>sentbert</td>\n",
       "      <td>4.0</td>\n",
       "      <td>ticket</td>\n",
       "      <td>None</td>\n",
       "      <td>4</td>\n",
       "      <td>False</td>\n",
       "      <td>5.5356</td>\n",
       "    </tr>\n",
       "    <tr>\n",
       "      <th>293</th>\n",
       "      <td>sentbert</td>\n",
       "      <td>4.0</td>\n",
       "      <td>ticket</td>\n",
       "      <td>None</td>\n",
       "      <td>None</td>\n",
       "      <td>False</td>\n",
       "      <td>5.5356</td>\n",
       "    </tr>\n",
       "    <tr>\n",
       "      <th>294</th>\n",
       "      <td>sentbert</td>\n",
       "      <td>4.0</td>\n",
       "      <td>ticket</td>\n",
       "      <td>None</td>\n",
       "      <td>None</td>\n",
       "      <td>True</td>\n",
       "      <td>5.5356</td>\n",
       "    </tr>\n",
       "  </tbody>\n",
       "</table>\n",
       "<p>295 rows × 7 columns</p>\n",
       "</div>"
      ],
      "text/plain": [
       "    embedding  num_embedding_passes  fe_type max_features_frac  \\\n",
       "0    fasttext                   3.0  default               0.1   \n",
       "1    fasttext                   3.0  default               0.1   \n",
       "2    fasttext                   3.0  default               0.1   \n",
       "3    fasttext                   3.0  default               0.1   \n",
       "4    fasttext                   3.0  default               0.1   \n",
       "..        ...                   ...      ...               ...   \n",
       "290  sentbert                   4.0   ticket              None   \n",
       "291  sentbert                   4.0   ticket              None   \n",
       "292  sentbert                   4.0   ticket              None   \n",
       "293  sentbert                   4.0   ticket              None   \n",
       "294  sentbert                   4.0   ticket              None   \n",
       "\n",
       "    max_overlap_percent  with_negative_label  absent_features/labels  \n",
       "0                     1                False                 17.1046  \n",
       "1                     1                 True                 17.1046  \n",
       "2                     2                False                 17.1046  \n",
       "3                     2                 True                 17.1046  \n",
       "4                     3                False                 17.1046  \n",
       "..                  ...                  ...                     ...  \n",
       "290                   2                False                  5.5356  \n",
       "291                   3                False                  5.5356  \n",
       "292                   4                False                  5.5356  \n",
       "293                None                False                  5.5356  \n",
       "294                None                 True                  5.5356  \n",
       "\n",
       "[295 rows x 7 columns]"
      ]
     },
     "execution_count": 37,
     "metadata": {},
     "output_type": "execute_result"
    }
   ],
   "source": [
    "df.groupby(input_col)['absent_features/labels'].max().reset_index()"
   ]
  },
  {
   "cell_type": "code",
   "execution_count": null,
   "metadata": {},
   "outputs": [],
   "source": [
    "import collections\n",
    "\n",
    "def analyze(analyzer_input, analyzer_input):\n",
    "    static_params = input_col.copy()\n",
    "    static_params.remove(analyzer_input)\n",
    "    \n",
    "    d = collections.defaultdict(list)\n",
    "    \n",
    "    "
   ]
  },
  {
   "cell_type": "code",
   "execution_count": null,
   "metadata": {},
   "outputs": [],
   "source": [
    "df.groupby(input_col)"
   ]
  },
  {
   "cell_type": "code",
   "execution_count": 49,
   "metadata": {},
   "outputs": [
    {
     "data": {
      "text/plain": [
       "<matplotlib.axes._subplots.AxesSubplot at 0x12c13c910>"
      ]
     },
     "execution_count": 49,
     "metadata": {},
     "output_type": "execute_result"
    },
    {
     "data": {
      "image/png": "[encoded data removed]",
      "text/plain": [
       "<Figure size 1080x504 with 1 Axes>"
      ]
     },
     "metadata": {
      "needs_background": "light"
     },
     "output_type": "display_data"
    }
   ],
   "source": [
    "import matplotlib.pyplot as plt\n",
    "\n",
    "fig, ax = plt.subplots(figsize=(15,7))\n",
    "# use unstack()\n",
    "df.groupby(input_col).max()['accuracy/labels'].unstack().plot(ax=ax)"
   ]
  },
  {
   "cell_type": "code",
   "execution_count": 61,
   "metadata": {},
   "outputs": [
    {
     "data": {
      "text/html": [
       "<div>\n",
       "<style scoped>\n",
       "    .dataframe tbody tr th:only-of-type {\n",
       "        vertical-align: middle;\n",
       "    }\n",
       "\n",
       "    .dataframe tbody tr th {\n",
       "        vertical-align: top;\n",
       "    }\n",
       "\n",
       "    .dataframe thead th {\n",
       "        text-align: right;\n",
       "    }\n",
       "</style>\n",
       "<table border=\"1\" class=\"dataframe\">\n",
       "  <thead>\n",
       "    <tr style=\"text-align: right;\">\n",
       "      <th></th>\n",
       "      <th></th>\n",
       "      <th></th>\n",
       "      <th></th>\n",
       "      <th>with_negative_label</th>\n",
       "      <th>False</th>\n",
       "      <th>True</th>\n",
       "    </tr>\n",
       "    <tr>\n",
       "      <th>embedding</th>\n",
       "      <th>num_embedding_passes</th>\n",
       "      <th>fe_type</th>\n",
       "      <th>max_features_frac</th>\n",
       "      <th>max_overlap_percent</th>\n",
       "      <th></th>\n",
       "      <th></th>\n",
       "    </tr>\n",
       "  </thead>\n",
       "  <tbody>\n",
       "    <tr>\n",
       "      <th rowspan=\"5\" valign=\"top\">fasttext</th>\n",
       "      <th rowspan=\"5\" valign=\"top\">3.0</th>\n",
       "      <th rowspan=\"5\" valign=\"top\">default</th>\n",
       "      <th rowspan=\"5\" valign=\"top\">0.1</th>\n",
       "      <th>1</th>\n",
       "      <td>17.1046</td>\n",
       "      <td>17.1046</td>\n",
       "    </tr>\n",
       "    <tr>\n",
       "      <th>2</th>\n",
       "      <td>17.1046</td>\n",
       "      <td>17.1046</td>\n",
       "    </tr>\n",
       "    <tr>\n",
       "      <th>3</th>\n",
       "      <td>17.1046</td>\n",
       "      <td>17.1046</td>\n",
       "    </tr>\n",
       "    <tr>\n",
       "      <th>4</th>\n",
       "      <td>17.1046</td>\n",
       "      <td>17.1046</td>\n",
       "    </tr>\n",
       "    <tr>\n",
       "      <th>None</th>\n",
       "      <td>17.1046</td>\n",
       "      <td>17.1046</td>\n",
       "    </tr>\n",
       "    <tr>\n",
       "      <th>...</th>\n",
       "      <th>...</th>\n",
       "      <th>...</th>\n",
       "      <th>...</th>\n",
       "      <th>...</th>\n",
       "      <td>...</td>\n",
       "      <td>...</td>\n",
       "    </tr>\n",
       "    <tr>\n",
       "      <th rowspan=\"5\" valign=\"top\">sentbert</th>\n",
       "      <th rowspan=\"5\" valign=\"top\">4.0</th>\n",
       "      <th rowspan=\"5\" valign=\"top\">ticket</th>\n",
       "      <th rowspan=\"5\" valign=\"top\">None</th>\n",
       "      <th>1</th>\n",
       "      <td>5.5356</td>\n",
       "      <td>5.5356</td>\n",
       "    </tr>\n",
       "    <tr>\n",
       "      <th>2</th>\n",
       "      <td>5.5356</td>\n",
       "      <td>NaN</td>\n",
       "    </tr>\n",
       "    <tr>\n",
       "      <th>3</th>\n",
       "      <td>5.5356</td>\n",
       "      <td>NaN</td>\n",
       "    </tr>\n",
       "    <tr>\n",
       "      <th>4</th>\n",
       "      <td>5.5356</td>\n",
       "      <td>NaN</td>\n",
       "    </tr>\n",
       "    <tr>\n",
       "      <th>None</th>\n",
       "      <td>5.5356</td>\n",
       "      <td>5.5356</td>\n",
       "    </tr>\n",
       "  </tbody>\n",
       "</table>\n",
       "<p>160 rows × 2 columns</p>\n",
       "</div>"
      ],
      "text/plain": [
       "with_negative_label                                                             False  \\\n",
       "embedding num_embedding_passes fe_type max_features_frac max_overlap_percent            \n",
       "fasttext  3.0                  default 0.1               1                    17.1046   \n",
       "                                                         2                    17.1046   \n",
       "                                                         3                    17.1046   \n",
       "                                                         4                    17.1046   \n",
       "                                                         None                 17.1046   \n",
       "...                                                                               ...   \n",
       "sentbert  4.0                  ticket  None              1                     5.5356   \n",
       "                                                         2                     5.5356   \n",
       "                                                         3                     5.5356   \n",
       "                                                         4                     5.5356   \n",
       "                                                         None                  5.5356   \n",
       "\n",
       "with_negative_label                                                             True   \n",
       "embedding num_embedding_passes fe_type max_features_frac max_overlap_percent           \n",
       "fasttext  3.0                  default 0.1               1                    17.1046  \n",
       "                                                         2                    17.1046  \n",
       "                                                         3                    17.1046  \n",
       "                                                         4                    17.1046  \n",
       "                                                         None                 17.1046  \n",
       "...                                                                               ...  \n",
       "sentbert  4.0                  ticket  None              1                     5.5356  \n",
       "                                                         2                        NaN  \n",
       "                                                         3                        NaN  \n",
       "                                                         4                        NaN  \n",
       "                                                         None                  5.5356  \n",
       "\n",
       "[160 rows x 2 columns]"
      ]
     },
     "execution_count": 61,
     "metadata": {},
     "output_type": "execute_result"
    }
   ],
   "source": [
    "df.groupby(input_col).max()['absent_features/labels'].unstack()"
   ]
  },
  {
   "cell_type": "code",
   "execution_count": 50,
   "metadata": {},
   "outputs": [
    {
     "data": {
      "text/plain": [
       "with_negative_label\n",
       "False    17.1046\n",
       "True     17.1046\n",
       "Name: (fasttext, 3.0, default, 0.1, 2), dtype: float64"
      ]
     },
     "execution_count": 50,
     "metadata": {},
     "output_type": "execute_result"
    }
   ],
   "source": [
    "df.groupby(input_col).max()['absent_features/labels'].unstack().iloc[1]"
   ]
  },
  {
   "cell_type": "code",
   "execution_count": 171,
   "metadata": {
    "scrolled": true
   },
   "outputs": [
    {
     "name": "stdout",
     "output_type": "stream",
     "text": [
      "('default', '0.1', '1', False)\n",
      "('default', '0.1', '1', True)\n",
      "('default', '0.1', '2', False)\n",
      "('default', '0.1', '2', True)\n",
      "('default', '0.1', '3', False)\n",
      "('default', '0.1', '3', True)\n",
      "('default', '0.1', '4', False)\n",
      "('default', '0.1', '4', True)\n",
      "('default', '0.1', 'None', False)\n",
      "('default', '0.1', 'None', True)\n",
      "('default', '0.15', '1', False)\n",
      "('default', '0.15', '1', True)\n",
      "('default', '0.15', '2', False)\n",
      "('default', '0.15', '2', True)\n",
      "('default', '0.15', '3', False)\n",
      "('default', '0.15', '3', True)\n",
      "('default', '0.15', '4', False)\n",
      "('default', '0.15', '4', True)\n",
      "('default', '0.15', 'None', False)\n",
      "('default', '0.15', 'None', True)\n",
      "('default', '0.2', '1', False)\n",
      "('default', '0.2', '1', True)\n",
      "('default', '0.2', '2', False)\n",
      "('default', '0.2', '2', True)\n",
      "('default', '0.2', '3', False)\n",
      "('default', '0.2', '3', True)\n",
      "('default', '0.2', '4', False)\n",
      "('default', '0.2', '4', True)\n",
      "('default', '0.2', 'None', False)\n",
      "('default', '0.2', 'None', True)\n",
      "('default', 'None', '1', False)\n",
      "('default', 'None', '1', True)\n",
      "('default', 'None', '2', False)\n",
      "('default', 'None', '2', True)\n",
      "('default', 'None', '3', False)\n",
      "('default', 'None', '3', True)\n",
      "('default', 'None', '4', False)\n",
      "('default', 'None', '4', True)\n",
      "('default', 'None', 'None', False)\n",
      "('default', 'None', 'None', True)\n",
      "Change..\n",
      "\n",
      "Change..\n",
      "\n",
      "Change..\n",
      "\n",
      "('ticket', '0.1', '1', False)\n",
      "('ticket', '0.1', '1', True)\n",
      "('ticket', '0.1', '2', False)\n",
      "('ticket', '0.1', '3', False)\n",
      "('ticket', '0.1', '4', False)\n",
      "('ticket', '0.1', 'None', False)\n",
      "('ticket', '0.1', 'None', True)\n",
      "('ticket', '0.15', '1', False)\n",
      "('ticket', '0.15', '1', True)\n",
      "('ticket', '0.15', '2', False)\n",
      "('ticket', '0.15', '3', False)\n",
      "('ticket', '0.15', '4', False)\n",
      "('ticket', '0.15', 'None', False)\n",
      "('ticket', '0.15', 'None', True)\n",
      "('ticket', '0.2', '1', False)\n",
      "('ticket', '0.2', '1', True)\n",
      "('ticket', '0.2', '2', False)\n",
      "('ticket', '0.2', '3', False)\n",
      "('ticket', '0.2', '4', False)\n",
      "('ticket', '0.2', 'None', False)\n",
      "('ticket', '0.2', 'None', True)\n",
      "('ticket', 'None', '1', False)\n",
      "('ticket', 'None', '1', True)\n",
      "('ticket', 'None', '2', False)\n",
      "('ticket', 'None', '3', False)\n",
      "('ticket', 'None', '4', False)\n",
      "('ticket', 'None', 'None', False)\n",
      "('ticket', 'None', 'None', True)\n"
     ]
    }
   ],
   "source": [
    "import math\n",
    "import collections\n",
    "\n",
    "selected_col = input_col.copy()\n",
    "\n",
    "selected_col.remove('num_embedding_passes')\n",
    "selected_col.remove('embedding')\n",
    "selected_col.append('embedding')\n",
    "\n",
    "grp = df.groupby(selected_col)['absent_features/labels'].min().unstack()\n",
    "\n",
    "k = grp.iloc[0].index\n",
    "\n",
    "res_map = collections.defaultdict(list)\n",
    "\n",
    "\n",
    "for i in range(len(grp)):\n",
    "    if grp.iloc[i].isna().sum() > 0:\n",
    "        continue\n",
    "    \n",
    "    if len(set(grp.iloc[i].values))<=1:\n",
    "        continue\n",
    "    \n",
    "    for k, v in grp.iloc[i].items():\n",
    "        res_map[k].append(v)\n",
    "        \n",
    "        if len(res_map[k])>1 and res_map[k][-1] != res_map[k][-2]:\n",
    "            print('Change..\\n')\n",
    "    \n",
    "    print(grp.index[i])\n"
   ]
  },
  {
   "cell_type": "code",
   "execution_count": 179,
   "metadata": {
    "scrolled": true
   },
   "outputs": [
    {
     "name": "stdout",
     "output_type": "stream",
     "text": [
      "('ticket', '0.1', '1', False)\n",
      "Change..\n",
      "\n",
      "Change..\n",
      "\n",
      "Change..\n",
      "\n",
      "('ticket', '0.1', '1', True)\n",
      "Change..\n",
      "\n",
      "Change..\n",
      "\n",
      "Change..\n",
      "\n",
      "('ticket', '0.1', '2', False)\n",
      "('ticket', '0.1', '3', False)\n",
      "('ticket', '0.1', '4', False)\n",
      "('ticket', '0.1', 'None', False)\n",
      "Change..\n",
      "\n",
      "Change..\n",
      "\n",
      "Change..\n",
      "\n",
      "('ticket', '0.1', 'None', True)\n",
      "Change..\n",
      "\n",
      "Change..\n",
      "\n",
      "Change..\n",
      "\n",
      "('ticket', '0.15', '1', False)\n",
      "Change..\n",
      "\n",
      "Change..\n",
      "\n",
      "Change..\n",
      "\n",
      "('ticket', '0.15', '1', True)\n",
      "Change..\n",
      "\n",
      "Change..\n",
      "\n",
      "Change..\n",
      "\n",
      "('ticket', '0.15', '2', False)\n",
      "('ticket', '0.15', '3', False)\n",
      "('ticket', '0.15', '4', False)\n",
      "('ticket', '0.15', 'None', False)\n",
      "Change..\n",
      "\n",
      "Change..\n",
      "\n",
      "Change..\n",
      "\n",
      "('ticket', '0.15', 'None', True)\n",
      "Change..\n",
      "\n",
      "Change..\n",
      "\n",
      "Change..\n",
      "\n",
      "('ticket', '0.2', '1', False)\n",
      "Change..\n",
      "\n",
      "Change..\n",
      "\n",
      "Change..\n",
      "\n",
      "('ticket', '0.2', '1', True)\n",
      "Change..\n",
      "\n",
      "Change..\n",
      "\n",
      "Change..\n",
      "\n",
      "('ticket', '0.2', '2', False)\n",
      "('ticket', '0.2', '3', False)\n",
      "('ticket', '0.2', '4', False)\n",
      "('ticket', '0.2', 'None', False)\n",
      "Change..\n",
      "\n",
      "Change..\n",
      "\n",
      "Change..\n",
      "\n",
      "('ticket', '0.2', 'None', True)\n",
      "Change..\n",
      "\n",
      "Change..\n",
      "\n",
      "Change..\n",
      "\n",
      "('ticket', 'None', '1', False)\n",
      "Change..\n",
      "\n",
      "Change..\n",
      "\n",
      "Change..\n",
      "\n",
      "('ticket', 'None', '1', True)\n",
      "Change..\n",
      "\n",
      "Change..\n",
      "\n",
      "Change..\n",
      "\n",
      "('ticket', 'None', '2', False)\n",
      "('ticket', 'None', '3', False)\n",
      "('ticket', 'None', '4', False)\n",
      "('ticket', 'None', 'None', False)\n",
      "Change..\n",
      "\n",
      "Change..\n",
      "\n",
      "Change..\n",
      "\n",
      "('ticket', 'None', 'None', True)\n"
     ]
    }
   ],
   "source": [
    "import math\n",
    "import collections\n",
    "\n",
    "selected_col = input_col.copy()\n",
    "\n",
    "selected_col.remove('num_embedding_passes')\n",
    "selected_col.remove('embedding')\n",
    "selected_col.append('embedding')\n",
    "\n",
    "ticket_df = df[df.fe_type=='ticket']\n",
    "grp = ticket_df.groupby(selected_col)['assigned_doc_percent'].max().unstack()\n",
    "\n",
    "k = grp.iloc[0].index\n",
    "\n",
    "res_map = collections.defaultdict(list)\n",
    "\n",
    "\n",
    "for i in range(len(grp)):\n",
    "    if grp.iloc[i].isna().sum() > 0:\n",
    "        continue\n",
    "    \n",
    "    if len(set(grp.iloc[i].values))<=1:\n",
    "        continue\n",
    "    \n",
    "    for k, v in grp.iloc[i].items():\n",
    "        res_map[k].append(v)\n",
    "        \n",
    "        if len(res_map[k])>1 and res_map[k][-1] != res_map[k][-2]:\n",
    "            print('Change..\\n')\n",
    "    \n",
    "    print(grp.index[i])\n"
   ]
  },
  {
   "cell_type": "code",
   "execution_count": 180,
   "metadata": {},
   "outputs": [
    {
     "data": {
      "text/plain": [
       "['embedding',\n",
       " 'num_embedding_passes',\n",
       " 'fe_type',\n",
       " 'max_features_frac',\n",
       " 'max_overlap_percent',\n",
       " 'with_negative_label']"
      ]
     },
     "execution_count": 180,
     "metadata": {},
     "output_type": "execute_result"
    }
   ],
   "source": [
    "input_col"
   ]
  },
  {
   "cell_type": "code",
   "execution_count": null,
   "metadata": {},
   "outputs": [],
   "source": []
  },
  {
   "cell_type": "code",
   "execution_count": 175,
   "metadata": {},
   "outputs": [
    {
     "data": {
      "text/plain": [
       "(absent_features/labels              8.0886\n",
       " absent_features/selected_labels     8.0886\n",
       " assigned_doc_percent               67.8000\n",
       " dtype: float64,\n",
       " absent_features/labels             31.8393\n",
       " absent_features/selected_labels    32.1999\n",
       " assigned_doc_percent               91.9110\n",
       " dtype: float64)"
      ]
     },
     "execution_count": 175,
     "metadata": {},
     "output_type": "execute_result"
    }
   ],
   "source": [
    "df[df.fe_type=='default'][feat_pred_cols].min(), df[df.fe_type=='default'][feat_pred_cols].max()\n"
   ]
  },
  {
   "cell_type": "code",
   "execution_count": 176,
   "metadata": {},
   "outputs": [
    {
     "data": {
      "text/plain": [
       "(absent_features/labels              5.5356\n",
       " absent_features/selected_labels     5.5356\n",
       " assigned_doc_percent               66.7860\n",
       " dtype: float64,\n",
       " absent_features/labels             32.7524\n",
       " absent_features/selected_labels    33.2137\n",
       " assigned_doc_percent               94.4640\n",
       " dtype: float64)"
      ]
     },
     "execution_count": 176,
     "metadata": {},
     "output_type": "execute_result"
    }
   ],
   "source": [
    "df[df.fe_type=='ticket'][feat_pred_cols].min(), df[df.fe_type=='ticket'][feat_pred_cols].max()\n"
   ]
  },
  {
   "cell_type": "code",
   "execution_count": 177,
   "metadata": {},
   "outputs": [
    {
     "data": {
      "text/plain": [
       "accuracy/labels                      85.3350\n",
       "accuracy/selected_labels             85.4650\n",
       "fscore/labels                        86.5081\n",
       "fscore/selected_labels               86.6277\n",
       "outlier_precision/labels             34.2593\n",
       "outlier_precision/selected_labels    34.2593\n",
       "precison/labels                      80.1005\n",
       "precison/selected_labels             80.2113\n",
       "recall/labels                        94.6890\n",
       "recall/selected_labels               94.7709\n",
       "dtype: float64"
      ]
     },
     "execution_count": 177,
     "metadata": {},
     "output_type": "execute_result"
    }
   ],
   "source": [
    "df[df.fe_type=='ticket'][metrics_cols].max()\n"
   ]
  },
  {
   "cell_type": "code",
   "execution_count": 178,
   "metadata": {},
   "outputs": [
    {
     "data": {
      "text/plain": [
       "accuracy/labels                      88.0700\n",
       "accuracy/selected_labels             88.1750\n",
       "fscore/labels                        89.1821\n",
       "fscore/selected_labels               89.2651\n",
       "outlier_precision/labels             33.1210\n",
       "outlier_precision/selected_labels    33.1210\n",
       "precison/labels                      81.5776\n",
       "precison/selected_labels             81.7305\n",
       "recall/labels                        98.3500\n",
       "recall/selected_labels               98.3500\n",
       "dtype: float64"
      ]
     },
     "execution_count": 178,
     "metadata": {},
     "output_type": "execute_result"
    }
   ],
   "source": [
    "df[df.fe_type=='default'][metrics_cols].max()\n"
   ]
  },
  {
   "cell_type": "code",
   "execution_count": null,
   "metadata": {},
   "outputs": [],
   "source": []
  },
  {
   "cell_type": "code",
   "execution_count": null,
   "metadata": {},
   "outputs": [],
   "source": []
  },
  {
   "cell_type": "code",
   "execution_count": null,
   "metadata": {},
   "outputs": [],
   "source": []
  },
  {
   "cell_type": "code",
   "execution_count": null,
   "metadata": {},
   "outputs": [],
   "source": []
  },
  {
   "cell_type": "code",
   "execution_count": null,
   "metadata": {},
   "outputs": [],
   "source": []
  },
  {
   "cell_type": "code",
   "execution_count": 166,
   "metadata": {
    "scrolled": true
   },
   "outputs": [
    {
     "data": {
      "text/plain": [
       "Index(['None', 'fasttext', 'sentbert'], dtype='object', name='embedding')"
      ]
     },
     "execution_count": 166,
     "metadata": {},
     "output_type": "execute_result"
    }
   ],
   "source": [
    "grp.iloc[0].index"
   ]
  },
  {
   "cell_type": "code",
   "execution_count": 169,
   "metadata": {
    "scrolled": true
   },
   "outputs": [
    {
     "data": {
      "text/plain": [
       "[31.8393,\n",
       " 31.8393,\n",
       " 31.8393,\n",
       " 31.8393,\n",
       " 31.8393,\n",
       " 31.8393,\n",
       " 31.8393,\n",
       " 31.8393,\n",
       " 31.8393,\n",
       " 31.8393,\n",
       " 31.8393,\n",
       " 31.8393,\n",
       " 31.8393,\n",
       " 31.8393,\n",
       " 31.8393,\n",
       " 31.8393,\n",
       " 31.8393,\n",
       " 31.8393,\n",
       " 31.8393,\n",
       " 31.8393,\n",
       " 31.8393,\n",
       " 31.8393,\n",
       " 31.8393,\n",
       " 31.8393,\n",
       " 31.8393,\n",
       " 31.8393,\n",
       " 31.8393,\n",
       " 31.8393,\n",
       " 31.8393,\n",
       " 31.8393,\n",
       " 31.8393,\n",
       " 31.8393,\n",
       " 31.8393,\n",
       " 31.8393,\n",
       " 31.8393,\n",
       " 31.8393,\n",
       " 31.8393,\n",
       " 31.8393,\n",
       " 31.8393,\n",
       " 31.8393,\n",
       " 32.7524,\n",
       " 32.7524,\n",
       " 32.7524,\n",
       " 32.7524,\n",
       " 32.7524,\n",
       " 32.7524,\n",
       " 32.7524,\n",
       " 32.7524,\n",
       " 32.7524,\n",
       " 32.7524,\n",
       " 32.7524,\n",
       " 32.7524,\n",
       " 32.7524,\n",
       " 32.7524,\n",
       " 32.7524,\n",
       " 32.7524,\n",
       " 32.7524,\n",
       " 32.7524,\n",
       " 32.7524,\n",
       " 32.7524,\n",
       " 32.7524,\n",
       " 32.7524,\n",
       " 32.7524,\n",
       " 32.7524,\n",
       " 32.7524,\n",
       " 32.7524,\n",
       " 32.7524,\n",
       " 32.7524]"
      ]
     },
     "execution_count": 169,
     "metadata": {},
     "output_type": "execute_result"
    }
   ],
   "source": [
    "res_map['None']"
   ]
  },
  {
   "cell_type": "code",
   "execution_count": 113,
   "metadata": {},
   "outputs": [
    {
     "name": "stdout",
     "output_type": "stream",
     "text": [
      "None nan\n",
      "fasttext 17.1046\n",
      "sentbert 10.6131\n"
     ]
    }
   ],
   "source": [
    "for k, v in grp.iloc[0].items():\n",
    "    print(k, v)"
   ]
  },
  {
   "cell_type": "code",
   "execution_count": 115,
   "metadata": {},
   "outputs": [
    {
     "data": {
      "text/plain": [
       "1"
      ]
     },
     "execution_count": 115,
     "metadata": {},
     "output_type": "execute_result"
    }
   ],
   "source": [
    "grp.iloc[0].isna().sum()"
   ]
  },
  {
   "cell_type": "code",
   "execution_count": 145,
   "metadata": {},
   "outputs": [
    {
     "data": {
      "image/png": "[encoded data removed]",
      "text/plain": [
       "<Figure size 432x288 with 1 Axes>"
      ]
     },
     "metadata": {
      "needs_background": "light"
     },
     "output_type": "display_data"
    }
   ],
   "source": [
    "x = list(range(len(res_map['None'])))\n",
    "\n",
    "for name, values in res_map.items():\n",
    "    \n",
    "    plt.plot(x, values, label = name)\n",
    "\n",
    "#plt.plot(x, trues, label = 'sentbert')\n",
    "plt.ylabel('Absent features %')\n",
    "plt.legend()\n",
    "plt.show()"
   ]
  },
  {
   "cell_type": "code",
   "execution_count": 158,
   "metadata": {},
   "outputs": [
    {
     "data": {
      "text/html": [
       "<div>\n",
       "<style scoped>\n",
       "    .dataframe tbody tr th:only-of-type {\n",
       "        vertical-align: middle;\n",
       "    }\n",
       "\n",
       "    .dataframe tbody tr th {\n",
       "        vertical-align: top;\n",
       "    }\n",
       "\n",
       "    .dataframe thead th {\n",
       "        text-align: right;\n",
       "    }\n",
       "</style>\n",
       "<table border=\"1\" class=\"dataframe\">\n",
       "  <thead>\n",
       "    <tr style=\"text-align: right;\">\n",
       "      <th></th>\n",
       "      <th></th>\n",
       "      <th></th>\n",
       "      <th>embedding</th>\n",
       "      <th>None</th>\n",
       "      <th>fasttext</th>\n",
       "      <th>sentbert</th>\n",
       "    </tr>\n",
       "    <tr>\n",
       "      <th>fe_type</th>\n",
       "      <th>max_features_frac</th>\n",
       "      <th>max_overlap_percent</th>\n",
       "      <th>with_negative_label</th>\n",
       "      <th></th>\n",
       "      <th></th>\n",
       "      <th></th>\n",
       "    </tr>\n",
       "  </thead>\n",
       "  <tbody>\n",
       "    <tr>\n",
       "      <th rowspan=\"5\" valign=\"top\">default</th>\n",
       "      <th rowspan=\"5\" valign=\"top\">0.1</th>\n",
       "      <th rowspan=\"2\" valign=\"top\">1</th>\n",
       "      <th>False</th>\n",
       "      <td>31.8393</td>\n",
       "      <td>12.7254</td>\n",
       "      <td>8.0886</td>\n",
       "    </tr>\n",
       "    <tr>\n",
       "      <th>True</th>\n",
       "      <td>31.8393</td>\n",
       "      <td>12.7254</td>\n",
       "      <td>8.0886</td>\n",
       "    </tr>\n",
       "    <tr>\n",
       "      <th rowspan=\"2\" valign=\"top\">2</th>\n",
       "      <th>False</th>\n",
       "      <td>31.8393</td>\n",
       "      <td>12.7254</td>\n",
       "      <td>8.0886</td>\n",
       "    </tr>\n",
       "    <tr>\n",
       "      <th>True</th>\n",
       "      <td>31.8393</td>\n",
       "      <td>12.7254</td>\n",
       "      <td>8.0886</td>\n",
       "    </tr>\n",
       "    <tr>\n",
       "      <th>3</th>\n",
       "      <th>False</th>\n",
       "      <td>31.8393</td>\n",
       "      <td>12.7254</td>\n",
       "      <td>8.0886</td>\n",
       "    </tr>\n",
       "    <tr>\n",
       "      <th>...</th>\n",
       "      <th>...</th>\n",
       "      <th>...</th>\n",
       "      <th>...</th>\n",
       "      <td>...</td>\n",
       "      <td>...</td>\n",
       "      <td>...</td>\n",
       "    </tr>\n",
       "    <tr>\n",
       "      <th rowspan=\"5\" valign=\"top\">ticket</th>\n",
       "      <th rowspan=\"5\" valign=\"top\">None</th>\n",
       "      <th>3</th>\n",
       "      <th>True</th>\n",
       "      <td>32.7524</td>\n",
       "      <td>8.0984</td>\n",
       "      <td>NaN</td>\n",
       "    </tr>\n",
       "    <tr>\n",
       "      <th rowspan=\"2\" valign=\"top\">4</th>\n",
       "      <th>False</th>\n",
       "      <td>32.7524</td>\n",
       "      <td>8.0984</td>\n",
       "      <td>5.5356</td>\n",
       "    </tr>\n",
       "    <tr>\n",
       "      <th>True</th>\n",
       "      <td>32.7524</td>\n",
       "      <td>8.0984</td>\n",
       "      <td>NaN</td>\n",
       "    </tr>\n",
       "    <tr>\n",
       "      <th rowspan=\"2\" valign=\"top\">None</th>\n",
       "      <th>False</th>\n",
       "      <td>32.7524</td>\n",
       "      <td>8.0984</td>\n",
       "      <td>5.5356</td>\n",
       "    </tr>\n",
       "    <tr>\n",
       "      <th>True</th>\n",
       "      <td>32.7524</td>\n",
       "      <td>8.0984</td>\n",
       "      <td>5.5356</td>\n",
       "    </tr>\n",
       "  </tbody>\n",
       "</table>\n",
       "<p>80 rows × 3 columns</p>\n",
       "</div>"
      ],
      "text/plain": [
       "embedding                                                             None  \\\n",
       "fe_type max_features_frac max_overlap_percent with_negative_label            \n",
       "default 0.1               1                   False                31.8393   \n",
       "                                              True                 31.8393   \n",
       "                          2                   False                31.8393   \n",
       "                                              True                 31.8393   \n",
       "                          3                   False                31.8393   \n",
       "...                                                                    ...   \n",
       "ticket  None              3                   True                 32.7524   \n",
       "                          4                   False                32.7524   \n",
       "                                              True                 32.7524   \n",
       "                          None                False                32.7524   \n",
       "                                              True                 32.7524   \n",
       "\n",
       "embedding                                                          fasttext  \\\n",
       "fe_type max_features_frac max_overlap_percent with_negative_label             \n",
       "default 0.1               1                   False                 12.7254   \n",
       "                                              True                  12.7254   \n",
       "                          2                   False                 12.7254   \n",
       "                                              True                  12.7254   \n",
       "                          3                   False                 12.7254   \n",
       "...                                                                     ...   \n",
       "ticket  None              3                   True                   8.0984   \n",
       "                          4                   False                  8.0984   \n",
       "                                              True                   8.0984   \n",
       "                          None                False                  8.0984   \n",
       "                                              True                   8.0984   \n",
       "\n",
       "embedding                                                          sentbert  \n",
       "fe_type max_features_frac max_overlap_percent with_negative_label            \n",
       "default 0.1               1                   False                  8.0886  \n",
       "                                              True                   8.0886  \n",
       "                          2                   False                  8.0886  \n",
       "                                              True                   8.0886  \n",
       "                          3                   False                  8.0886  \n",
       "...                                                                     ...  \n",
       "ticket  None              3                   True                      NaN  \n",
       "                          4                   False                  5.5356  \n",
       "                                              True                      NaN  \n",
       "                          None                False                  5.5356  \n",
       "                                              True                   5.5356  \n",
       "\n",
       "[80 rows x 3 columns]"
      ]
     },
     "execution_count": 158,
     "metadata": {},
     "output_type": "execute_result"
    }
   ],
   "source": [
    "#selected_col.remove('num_embedding_passes')\n",
    "\n",
    "df.groupby(selected_col)['absent_features/labels'].min().unstack()\n"
   ]
  },
  {
   "cell_type": "code",
   "execution_count": 187,
   "metadata": {},
   "outputs": [
    {
     "data": {
      "text/plain": [
       "'ticket'"
      ]
     },
     "execution_count": 187,
     "metadata": {},
     "output_type": "execute_result"
    }
   ],
   "source": [
    "df[['fe_type', 'absent_features/labels']]\n",
    "\n",
    "df[df['absent_features/labels']==max(df['absent_features/labels'])].fe_type.iloc[0]"
   ]
  },
  {
   "cell_type": "code",
   "execution_count": 181,
   "metadata": {},
   "outputs": [],
   "source": [
    "filter_cols = ['fe_type', 'num_embedding_passes', 'max_features_frac', 'max_overlap_percent']"
   ]
  },
  {
   "cell_type": "code",
   "execution_count": 215,
   "metadata": {},
   "outputs": [],
   "source": [
    "def select_feats(output_f, op_function):\n",
    "    temp_df = df.copy()\n",
    "    filters_map = {}\n",
    "    \n",
    "    for f_col in filter_cols:\n",
    "        best_out_val = op_function(df[output_f])\n",
    "        best_f_val = df[df[output_f]==best_out_val][f_col].iloc[0]\n",
    "       # print(f_col, df[f_col].unique())\n",
    "        if f_col == 'num_embedding_passes':\n",
    "            temp_df = temp_df[temp_df[f_col].isin([best_f_val, 'None'])]\n",
    "       # print(f_col, temp_df.embedding.unique(), '\\n')\n",
    "        filters_map[f_col] =  {'best_val':best_f_val, 'best_out_val':best_out_val, 'df_size':len(temp_df)}\n",
    "    \n",
    "    return temp_df, filters_map\n",
    "\n",
    "\n",
    "_ = select_feats('absent_features/labels', min)\n"
   ]
  },
  {
   "cell_type": "code",
   "execution_count": 200,
   "metadata": {},
   "outputs": [
    {
     "data": {
      "text/plain": [
       "['absent_features/labels',\n",
       " 'absent_features/selected_labels',\n",
       " 'assigned_doc_percent']"
      ]
     },
     "execution_count": 200,
     "metadata": {},
     "output_type": "execute_result"
    }
   ],
   "source": [
    "feat_pred_cols\n"
   ]
  },
  {
   "cell_type": "code",
   "execution_count": 238,
   "metadata": {
    "scrolled": true
   },
   "outputs": [
    {
     "name": "stdout",
     "output_type": "stream",
     "text": [
      "assigned_doc_percent\n",
      "fe_type {'best_val': 'ticket', 'best_out_val': 94.464, 'df_size': 375}\n",
      "num_embedding_passes {'best_val': '4.0', 'best_out_val': 94.464, 'df_size': 228}\n",
      "max_features_frac {'best_val': '0.2', 'best_out_val': 94.464, 'df_size': 228}\n",
      "max_overlap_percent {'best_val': '1', 'best_out_val': 94.464, 'df_size': 228}\n",
      "\n",
      "\n",
      "accuracy/labels\n",
      "fe_type {'best_val': 'default', 'best_out_val': 88.07, 'df_size': 375}\n",
      "num_embedding_passes {'best_val': '4.0', 'best_out_val': 88.07, 'df_size': 228}\n",
      "max_features_frac {'best_val': '0.2', 'best_out_val': 88.07, 'df_size': 228}\n",
      "max_overlap_percent {'best_val': '4', 'best_out_val': 88.07, 'df_size': 228}\n",
      "\n",
      "\n",
      "accuracy/selected_labels\n",
      "fe_type {'best_val': 'default', 'best_out_val': 88.175, 'df_size': 375}\n",
      "num_embedding_passes {'best_val': '4.0', 'best_out_val': 88.175, 'df_size': 228}\n",
      "max_features_frac {'best_val': '0.2', 'best_out_val': 88.175, 'df_size': 228}\n",
      "max_overlap_percent {'best_val': '4', 'best_out_val': 88.175, 'df_size': 228}\n",
      "\n",
      "\n",
      "fscore/labels\n",
      "fe_type {'best_val': 'default', 'best_out_val': 89.1821, 'df_size': 375}\n",
      "num_embedding_passes {'best_val': '4.0', 'best_out_val': 89.1821, 'df_size': 228}\n",
      "max_features_frac {'best_val': '0.2', 'best_out_val': 89.1821, 'df_size': 228}\n",
      "max_overlap_percent {'best_val': '4', 'best_out_val': 89.1821, 'df_size': 228}\n",
      "\n",
      "\n",
      "fscore/selected_labels\n",
      "fe_type {'best_val': 'default', 'best_out_val': 89.2651, 'df_size': 375}\n",
      "num_embedding_passes {'best_val': '4.0', 'best_out_val': 89.2651, 'df_size': 228}\n",
      "max_features_frac {'best_val': '0.2', 'best_out_val': 89.2651, 'df_size': 228}\n",
      "max_overlap_percent {'best_val': '4', 'best_out_val': 89.2651, 'df_size': 228}\n",
      "\n",
      "\n",
      "outlier_precision/labels\n",
      "fe_type {'best_val': 'ticket', 'best_out_val': 34.2593, 'df_size': 375}\n",
      "num_embedding_passes {'best_val': '4.0', 'best_out_val': 34.2593, 'df_size': 228}\n",
      "max_features_frac {'best_val': '0.2', 'best_out_val': 34.2593, 'df_size': 228}\n",
      "max_overlap_percent {'best_val': '1', 'best_out_val': 34.2593, 'df_size': 228}\n",
      "\n",
      "\n",
      "outlier_precision/selected_labels\n",
      "fe_type {'best_val': 'ticket', 'best_out_val': 34.2593, 'df_size': 375}\n",
      "num_embedding_passes {'best_val': '4.0', 'best_out_val': 34.2593, 'df_size': 228}\n",
      "max_features_frac {'best_val': '0.2', 'best_out_val': 34.2593, 'df_size': 228}\n",
      "max_overlap_percent {'best_val': '1', 'best_out_val': 34.2593, 'df_size': 228}\n",
      "\n",
      "\n",
      "precison/labels\n",
      "fe_type {'best_val': 'default', 'best_out_val': 81.5776, 'df_size': 375}\n",
      "num_embedding_passes {'best_val': '4.0', 'best_out_val': 81.5776, 'df_size': 228}\n",
      "max_features_frac {'best_val': '0.2', 'best_out_val': 81.5776, 'df_size': 228}\n",
      "max_overlap_percent {'best_val': '4', 'best_out_val': 81.5776, 'df_size': 228}\n",
      "\n",
      "\n",
      "precison/selected_labels\n",
      "fe_type {'best_val': 'default', 'best_out_val': 81.7305, 'df_size': 375}\n",
      "num_embedding_passes {'best_val': '4.0', 'best_out_val': 81.7305, 'df_size': 228}\n",
      "max_features_frac {'best_val': '0.2', 'best_out_val': 81.7305, 'df_size': 228}\n",
      "max_overlap_percent {'best_val': '4', 'best_out_val': 81.7305, 'df_size': 228}\n",
      "\n",
      "\n",
      "recall/labels\n",
      "fe_type {'best_val': 'default', 'best_out_val': 98.35, 'df_size': 375}\n",
      "num_embedding_passes {'best_val': '4.0', 'best_out_val': 98.35, 'df_size': 228}\n",
      "max_features_frac {'best_val': '0.2', 'best_out_val': 98.35, 'df_size': 228}\n",
      "max_overlap_percent {'best_val': '4', 'best_out_val': 98.35, 'df_size': 228}\n",
      "\n",
      "\n",
      "recall/selected_labels\n",
      "fe_type {'best_val': 'default', 'best_out_val': 98.35, 'df_size': 375}\n",
      "num_embedding_passes {'best_val': '4.0', 'best_out_val': 98.35, 'df_size': 228}\n",
      "max_features_frac {'best_val': '0.2', 'best_out_val': 98.35, 'df_size': 228}\n",
      "max_overlap_percent {'best_val': '4', 'best_out_val': 98.35, 'df_size': 228}\n",
      "\n",
      "\n"
     ]
    }
   ],
   "source": [
    "for col in feat_pred_cols[2:] + metrics_cols:\n",
    "    print(col)\n",
    "    _,select_map = select_feats(col, max)\n",
    "    for k, v in select_map.items():\n",
    "        print(k, v)\n",
    "    print('\\n')"
   ]
  },
  {
   "cell_type": "code",
   "execution_count": 211,
   "metadata": {
    "scrolled": false
   },
   "outputs": [
    {
     "name": "stdout",
     "output_type": "stream",
     "text": [
      "assigned_doc_percent\n",
      "fe_type {'best_val': 'ticket', 'best_out_val': 94.464, 'df_size': 375}\n",
      "num_embedding_passes {'best_val': '4.0', 'best_out_val': 94.464, 'df_size': 228}\n",
      "max_features_frac {'best_val': '0.2', 'best_out_val': 94.464, 'df_size': 228}\n",
      "max_overlap_percent {'best_val': '1', 'best_out_val': 94.464, 'df_size': 228}\n",
      "\n",
      "\n",
      "accuracy/labels\n",
      "fe_type {'best_val': 'default', 'best_out_val': 88.07, 'df_size': 375}\n",
      "num_embedding_passes {'best_val': '4.0', 'best_out_val': 88.07, 'df_size': 228}\n",
      "max_features_frac {'best_val': '0.2', 'best_out_val': 88.07, 'df_size': 228}\n",
      "max_overlap_percent {'best_val': '4', 'best_out_val': 88.07, 'df_size': 228}\n",
      "\n",
      "\n",
      "accuracy/selected_labels\n",
      "fe_type {'best_val': 'default', 'best_out_val': 88.175, 'df_size': 375}\n",
      "num_embedding_passes {'best_val': '4.0', 'best_out_val': 88.175, 'df_size': 228}\n",
      "max_features_frac {'best_val': '0.2', 'best_out_val': 88.175, 'df_size': 228}\n",
      "max_overlap_percent {'best_val': '4', 'best_out_val': 88.175, 'df_size': 228}\n",
      "\n",
      "\n",
      "fscore/labels\n",
      "fe_type {'best_val': 'default', 'best_out_val': 89.1821, 'df_size': 375}\n",
      "num_embedding_passes {'best_val': '4.0', 'best_out_val': 89.1821, 'df_size': 228}\n",
      "max_features_frac {'best_val': '0.2', 'best_out_val': 89.1821, 'df_size': 228}\n",
      "max_overlap_percent {'best_val': '4', 'best_out_val': 89.1821, 'df_size': 228}\n",
      "\n",
      "\n",
      "fscore/selected_labels\n",
      "fe_type {'best_val': 'default', 'best_out_val': 89.2651, 'df_size': 375}\n",
      "num_embedding_passes {'best_val': '4.0', 'best_out_val': 89.2651, 'df_size': 228}\n",
      "max_features_frac {'best_val': '0.2', 'best_out_val': 89.2651, 'df_size': 228}\n",
      "max_overlap_percent {'best_val': '4', 'best_out_val': 89.2651, 'df_size': 228}\n",
      "\n",
      "\n",
      "outlier_precision/labels\n",
      "fe_type {'best_val': 'ticket', 'best_out_val': 34.2593, 'df_size': 375}\n",
      "num_embedding_passes {'best_val': '4.0', 'best_out_val': 34.2593, 'df_size': 228}\n",
      "max_features_frac {'best_val': '0.2', 'best_out_val': 34.2593, 'df_size': 228}\n",
      "max_overlap_percent {'best_val': '1', 'best_out_val': 34.2593, 'df_size': 228}\n",
      "\n",
      "\n",
      "outlier_precision/selected_labels\n",
      "fe_type {'best_val': 'ticket', 'best_out_val': 34.2593, 'df_size': 375}\n",
      "num_embedding_passes {'best_val': '4.0', 'best_out_val': 34.2593, 'df_size': 228}\n",
      "max_features_frac {'best_val': '0.2', 'best_out_val': 34.2593, 'df_size': 228}\n",
      "max_overlap_percent {'best_val': '1', 'best_out_val': 34.2593, 'df_size': 228}\n",
      "\n",
      "\n",
      "precison/labels\n",
      "fe_type {'best_val': 'default', 'best_out_val': 81.5776, 'df_size': 375}\n",
      "num_embedding_passes {'best_val': '4.0', 'best_out_val': 81.5776, 'df_size': 228}\n",
      "max_features_frac {'best_val': '0.2', 'best_out_val': 81.5776, 'df_size': 228}\n",
      "max_overlap_percent {'best_val': '4', 'best_out_val': 81.5776, 'df_size': 228}\n",
      "\n",
      "\n",
      "precison/selected_labels\n",
      "fe_type {'best_val': 'default', 'best_out_val': 81.7305, 'df_size': 375}\n",
      "num_embedding_passes {'best_val': '4.0', 'best_out_val': 81.7305, 'df_size': 228}\n",
      "max_features_frac {'best_val': '0.2', 'best_out_val': 81.7305, 'df_size': 228}\n",
      "max_overlap_percent {'best_val': '4', 'best_out_val': 81.7305, 'df_size': 228}\n",
      "\n",
      "\n",
      "recall/labels\n",
      "fe_type {'best_val': 'default', 'best_out_val': 98.35, 'df_size': 375}\n",
      "num_embedding_passes {'best_val': '4.0', 'best_out_val': 98.35, 'df_size': 228}\n",
      "max_features_frac {'best_val': '0.2', 'best_out_val': 98.35, 'df_size': 228}\n",
      "max_overlap_percent {'best_val': '4', 'best_out_val': 98.35, 'df_size': 228}\n",
      "\n",
      "\n",
      "recall/selected_labels\n",
      "fe_type {'best_val': 'default', 'best_out_val': 98.35, 'df_size': 375}\n",
      "num_embedding_passes {'best_val': '4.0', 'best_out_val': 98.35, 'df_size': 228}\n",
      "max_features_frac {'best_val': '0.2', 'best_out_val': 98.35, 'df_size': 228}\n",
      "max_overlap_percent {'best_val': '4', 'best_out_val': 98.35, 'df_size': 228}\n",
      "\n",
      "\n"
     ]
    }
   ],
   "source": [
    "for col in feat_pred_cols[2:] + metrics_cols:\n",
    "    print(col)\n",
    "    select_map = select_feats(col, max)\n",
    "    for k, v in select_map.items():\n",
    "        print(k, v)\n",
    "    print('\\n')\n",
    "    "
   ]
  },
  {
   "cell_type": "code",
   "execution_count": null,
   "metadata": {},
   "outputs": [],
   "source": []
  },
  {
   "cell_type": "code",
   "execution_count": 203,
   "metadata": {},
   "outputs": [
    {
     "data": {
      "text/plain": [
       "array(['sentbert', 'fasttext', 'None'], dtype=object)"
      ]
     },
     "execution_count": 203,
     "metadata": {},
     "output_type": "execute_result"
    }
   ],
   "source": [
    "temp_df = df.copy()\n",
    "temp_df.embedding.unique()\n"
   ]
  },
  {
   "cell_type": "code",
   "execution_count": 213,
   "metadata": {},
   "outputs": [],
   "source": [
    "variable_input_cols = ['embedding','with_negative_label']"
   ]
  },
  {
   "cell_type": "code",
   "execution_count": 247,
   "metadata": {},
   "outputs": [
    {
     "name": "stdout",
     "output_type": "stream",
     "text": [
      "228 \n",
      "\n",
      "with_negative_label    False    True \n",
      "embedding                            \n",
      "None                 31.8393  31.8393\n",
      "fasttext              8.0984   8.0984\n",
      "sentbert              5.5356   5.5356 \n",
      "\n"
     ]
    }
   ],
   "source": [
    "def get_res_map(temp_df, output_f, func):\n",
    "    \n",
    "    selected_col = variable_input_cols.copy()\n",
    "    \n",
    "    if func == 'min':\n",
    "        op_function = min\n",
    "    \n",
    "    elif func == 'max':\n",
    "        op_function = max\n",
    "    \n",
    "    else:\n",
    "        print(func, ' :misunderstood..')\n",
    "        return\n",
    "\n",
    "    \n",
    "    if func == 'min':\n",
    "        grp = temp_df.groupby(selected_col)[output_f].min().unstack()\n",
    "        \n",
    "    elif func == 'max':\n",
    "        grp = temp_df.groupby(selected_col)[output_f].max().unstack()\n",
    "    \n",
    "    print(grp, '\\n')\n",
    "    res_map = collections.defaultdict(list)\n",
    "    \n",
    "    for i in range(len(grp)):\n",
    "        if grp.iloc[i].isna().sum() > 0:\n",
    "            continue\n",
    "\n",
    "        if len(set(grp.iloc[i].values))<=1:\n",
    "            continue\n",
    "\n",
    "        for k, v in grp.iloc[i].items():\n",
    "            res_map[k].append(v)\n",
    "\n",
    "#             if len(res_map[k])>1 and res_map[k][-1] != res_map[k][-2]:\n",
    "#                 print('Change..\\n')\n",
    "    \n",
    "    return res_map\n",
    "\n",
    "out_col = 'absent_features/labels'\n",
    "temp_df , _ = select_feats(out_col, min)\n",
    "print(len(temp_df),'\\n')\n",
    "res_map = get_res_map(temp_df, out_col, 'min')\n"
   ]
  },
  {
   "cell_type": "code",
   "execution_count": 226,
   "metadata": {},
   "outputs": [
    {
     "name": "stdout",
     "output_type": "stream",
     "text": [
      "228\n",
      "with_negative_label    False    True \n",
      "embedding                            \n",
      "None                 32.1999  31.8393\n",
      "fasttext             10.3537   8.0984\n",
      "sentbert              7.9959   5.5356\n",
      "Change..\n",
      "\n",
      "Change..\n",
      "\n",
      "Change..\n",
      "\n",
      "Change..\n",
      "\n"
     ]
    }
   ],
   "source": [
    "out_col = 'absent_features/selected_labels'\n",
    "temp_df , _ = select_feats(out_col, min)\n",
    "res_map = get_res_map(temp_df, out_col)\n"
   ]
  },
  {
   "cell_type": "code",
   "execution_count": 227,
   "metadata": {},
   "outputs": [
    {
     "data": {
      "text/plain": [
       "defaultdict(list,\n",
       "            {False: [32.1999, 10.3537, 7.9959],\n",
       "             True: [31.8393, 8.0984, 5.5356]})"
      ]
     },
     "execution_count": 227,
     "metadata": {},
     "output_type": "execute_result"
    }
   ],
   "source": [
    "res_map\n"
   ]
  },
  {
   "cell_type": "code",
   "execution_count": 234,
   "metadata": {},
   "outputs": [
    {
     "name": "stdout",
     "output_type": "stream",
     "text": [
      "with_negative_label   False   True \n",
      "embedding                          \n",
      "None                 66.786  67.248\n",
      "fasttext             85.832  87.275\n",
      "sentbert             90.160  91.911 \n",
      "\n",
      "Change..\n",
      "\n",
      "Change..\n",
      "\n",
      "Change..\n",
      "\n",
      "Change..\n",
      "\n"
     ]
    }
   ],
   "source": [
    "out_col = 'assigned_doc_percent'\n",
    "temp_df , _ = select_feats(out_col, max)\n",
    "res_map = get_res_map(temp_df, out_col)\n"
   ]
  },
  {
   "cell_type": "code",
   "execution_count": 249,
   "metadata": {},
   "outputs": [
    {
     "data": {
      "text/html": [
       "<div>\n",
       "<style scoped>\n",
       "    .dataframe tbody tr th:only-of-type {\n",
       "        vertical-align: middle;\n",
       "    }\n",
       "\n",
       "    .dataframe tbody tr th {\n",
       "        vertical-align: top;\n",
       "    }\n",
       "\n",
       "    .dataframe thead th {\n",
       "        text-align: right;\n",
       "    }\n",
       "</style>\n",
       "<table border=\"1\" class=\"dataframe\">\n",
       "  <thead>\n",
       "    <tr style=\"text-align: right;\">\n",
       "      <th></th>\n",
       "      <th>embedding</th>\n",
       "      <th>with_negative_label</th>\n",
       "      <th>accuracy/selected_labels</th>\n",
       "    </tr>\n",
       "  </thead>\n",
       "  <tbody>\n",
       "    <tr>\n",
       "      <th>0</th>\n",
       "      <td>sentbert</td>\n",
       "      <td>True</td>\n",
       "      <td>88.0700</td>\n",
       "    </tr>\n",
       "    <tr>\n",
       "      <th>1</th>\n",
       "      <td>sentbert</td>\n",
       "      <td>True</td>\n",
       "      <td>88.0700</td>\n",
       "    </tr>\n",
       "    <tr>\n",
       "      <th>2</th>\n",
       "      <td>sentbert</td>\n",
       "      <td>True</td>\n",
       "      <td>88.0700</td>\n",
       "    </tr>\n",
       "    <tr>\n",
       "      <th>3</th>\n",
       "      <td>sentbert</td>\n",
       "      <td>True</td>\n",
       "      <td>88.0700</td>\n",
       "    </tr>\n",
       "    <tr>\n",
       "      <th>4</th>\n",
       "      <td>sentbert</td>\n",
       "      <td>True</td>\n",
       "      <td>88.0700</td>\n",
       "    </tr>\n",
       "    <tr>\n",
       "      <th>...</th>\n",
       "      <td>...</td>\n",
       "      <td>...</td>\n",
       "      <td>...</td>\n",
       "    </tr>\n",
       "    <tr>\n",
       "      <th>370</th>\n",
       "      <td>sentbert</td>\n",
       "      <td>False</td>\n",
       "      <td>81.7124</td>\n",
       "    </tr>\n",
       "    <tr>\n",
       "      <th>371</th>\n",
       "      <td>sentbert</td>\n",
       "      <td>False</td>\n",
       "      <td>81.7124</td>\n",
       "    </tr>\n",
       "    <tr>\n",
       "      <th>372</th>\n",
       "      <td>sentbert</td>\n",
       "      <td>False</td>\n",
       "      <td>81.7124</td>\n",
       "    </tr>\n",
       "    <tr>\n",
       "      <th>373</th>\n",
       "      <td>sentbert</td>\n",
       "      <td>False</td>\n",
       "      <td>81.7124</td>\n",
       "    </tr>\n",
       "    <tr>\n",
       "      <th>374</th>\n",
       "      <td>sentbert</td>\n",
       "      <td>False</td>\n",
       "      <td>81.7124</td>\n",
       "    </tr>\n",
       "  </tbody>\n",
       "</table>\n",
       "<p>228 rows × 3 columns</p>\n",
       "</div>"
      ],
      "text/plain": [
       "    embedding  with_negative_label  accuracy/selected_labels\n",
       "0    sentbert                 True                   88.0700\n",
       "1    sentbert                 True                   88.0700\n",
       "2    sentbert                 True                   88.0700\n",
       "3    sentbert                 True                   88.0700\n",
       "4    sentbert                 True                   88.0700\n",
       "..        ...                  ...                       ...\n",
       "370  sentbert                False                   81.7124\n",
       "371  sentbert                False                   81.7124\n",
       "372  sentbert                False                   81.7124\n",
       "373  sentbert                False                   81.7124\n",
       "374  sentbert                False                   81.7124\n",
       "\n",
       "[228 rows x 3 columns]"
      ]
     },
     "execution_count": 249,
     "metadata": {},
     "output_type": "execute_result"
    }
   ],
   "source": [
    "out_col = 'accuracy/selected_labels'\n",
    "temp_df , _ = select_feats(out_col, max)\n",
    "temp_df[variable_input_cols+[out_col]]"
   ]
  },
  {
   "cell_type": "code",
   "execution_count": 251,
   "metadata": {},
   "outputs": [
    {
     "data": {
      "text/plain": [
       "embedding  with_negative_label\n",
       "None       False                                   [82.205, 81.76]\n",
       "           True                    [82.405, 82.245, 82.01, 81.615]\n",
       "fasttext   False                                  [85.45, 83.9774]\n",
       "           True                   [85.57, 85.51, 83.7112, 84.2013]\n",
       "sentbert   False                                 [88.175, 81.7124]\n",
       "           True                                   [88.07, 81.9841]\n",
       "Name: accuracy/selected_labels, dtype: object"
      ]
     },
     "execution_count": 251,
     "metadata": {},
     "output_type": "execute_result"
    }
   ],
   "source": [
    "temp_df.groupby(variable_input_cols)[out_col].unique() #.agg({out_col:['min', 'max']})"
   ]
  },
  {
   "cell_type": "code",
   "execution_count": null,
   "metadata": {},
   "outputs": [],
   "source": []
  },
  {
   "cell_type": "code",
   "execution_count": null,
   "metadata": {},
   "outputs": [],
   "source": []
  },
  {
   "cell_type": "code",
   "execution_count": 241,
   "metadata": {},
   "outputs": [
    {
     "name": "stdout",
     "output_type": "stream",
     "text": [
      "\n",
      " accuracy/labels\n",
      "88.07\n",
      "with_negative_label   False   True \n",
      "embedding                          \n",
      "None                 82.405  82.405\n",
      "fasttext             85.570  85.570\n",
      "sentbert             88.070  88.070 \n",
      "\n",
      "\n",
      " accuracy/selected_labels\n",
      "88.175\n",
      "with_negative_label   False   True \n",
      "embedding                          \n",
      "None                 82.205  82.405\n",
      "fasttext             85.450  85.570\n",
      "sentbert             88.175  88.070 \n",
      "\n",
      "\n",
      " fscore/labels\n",
      "89.1821\n",
      "with_negative_label    False    True \n",
      "embedding                            \n",
      "None                 83.6652  83.6652\n",
      "fasttext             86.8183  86.8183\n",
      "sentbert             89.1821  89.1821 \n",
      "\n",
      "\n",
      " fscore/selected_labels\n",
      "89.2651\n",
      "with_negative_label    False    True \n",
      "embedding                            \n",
      "None                 83.4673  83.6652\n",
      "fasttext             86.7450  86.8183\n",
      "sentbert             89.2651  89.1821 \n",
      "\n",
      "\n",
      " outlier_precision/labels\n",
      "34.2593\n",
      "with_negative_label    False    True \n",
      "embedding                            \n",
      "None                 30.0971  30.0971\n",
      "fasttext             29.7468  29.7468\n",
      "sentbert             34.2593  34.2593 \n",
      "\n",
      "\n",
      " outlier_precision/selected_labels\n",
      "34.2593\n",
      "with_negative_label    False    True \n",
      "embedding                            \n",
      "None                 30.0800  30.0971\n",
      "fasttext             30.1980  29.7468\n",
      "sentbert             32.4607  34.2593 \n",
      "\n",
      "\n",
      " precison/labels\n",
      "81.5776\n",
      "with_negative_label    False    True \n",
      "embedding                            \n",
      "None                 78.0733  78.0733\n",
      "fasttext             79.9058  79.9058\n",
      "sentbert             81.5776  81.5776 \n",
      "\n",
      "\n",
      " precison/selected_labels\n",
      "81.7305\n",
      "with_negative_label    False    True \n",
      "embedding                            \n",
      "None                 77.9388  78.0733\n",
      "fasttext             79.6553  79.9058\n",
      "sentbert             81.7305  81.5776 \n",
      "\n",
      "\n",
      " recall/labels\n",
      "98.35\n",
      "with_negative_label  False  True \n",
      "embedding                        \n",
      "None                 90.12  90.12\n",
      "fasttext             95.04  95.04\n",
      "sentbert             98.35  98.35 \n",
      "\n",
      "\n",
      " recall/selected_labels\n",
      "98.35\n",
      "with_negative_label  False  True \n",
      "embedding                        \n",
      "None                 89.84  90.12\n",
      "fasttext             95.22  95.04\n",
      "sentbert             98.33  98.35 \n",
      "\n"
     ]
    }
   ],
   "source": [
    "for out_col in metrics_cols:\n",
    "    print('\\n', out_col)\n",
    "    temp_df , _ = select_feats(out_col, max)\n",
    "    print(max(temp_df[out_col]))\n",
    "    res_map = get_res_map(temp_df, out_col, 'max')"
   ]
  },
  {
   "cell_type": "code",
   "execution_count": 146,
   "metadata": {},
   "outputs": [
    {
     "data": {
      "image/png": "[encoded data removed]",
      "text/plain": [
       "<Figure size 432x288 with 1 Axes>"
      ]
     },
     "metadata": {
      "needs_background": "light"
     },
     "output_type": "display_data"
    }
   ],
   "source": [
    "def plot(res_map, ylabel='Absent features %'):\n",
    "    k = list(res_map.keys())[0]\n",
    "    \n",
    "    x = list(range(len(res_map[k])))\n",
    "\n",
    "    for name, values in res_map.items():\n",
    "        plt.plot(x, values, label = name)\n",
    "\n",
    "\n",
    "    plt.ylabel(ylabel)\n",
    "    plt.legend()\n",
    "    plt.show()\n",
    "\n",
    "plot(res_map)"
   ]
  },
  {
   "cell_type": "code",
   "execution_count": 87,
   "metadata": {},
   "outputs": [
    {
     "data": {
      "text/html": [
       "<div>\n",
       "<style scoped>\n",
       "    .dataframe tbody tr th:only-of-type {\n",
       "        vertical-align: middle;\n",
       "    }\n",
       "\n",
       "    .dataframe tbody tr th {\n",
       "        vertical-align: top;\n",
       "    }\n",
       "\n",
       "    .dataframe thead th {\n",
       "        text-align: right;\n",
       "    }\n",
       "</style>\n",
       "<table border=\"1\" class=\"dataframe\">\n",
       "  <thead>\n",
       "    <tr style=\"text-align: right;\">\n",
       "      <th></th>\n",
       "      <th></th>\n",
       "      <th></th>\n",
       "      <th></th>\n",
       "      <th>max_overlap_percent</th>\n",
       "      <th>1</th>\n",
       "      <th>2</th>\n",
       "      <th>3</th>\n",
       "      <th>4</th>\n",
       "      <th>None</th>\n",
       "    </tr>\n",
       "    <tr>\n",
       "      <th>embedding</th>\n",
       "      <th>num_embedding_passes</th>\n",
       "      <th>fe_type</th>\n",
       "      <th>max_features_frac</th>\n",
       "      <th>with_negative_label</th>\n",
       "      <th></th>\n",
       "      <th></th>\n",
       "      <th></th>\n",
       "      <th></th>\n",
       "      <th></th>\n",
       "    </tr>\n",
       "  </thead>\n",
       "  <tbody>\n",
       "    <tr>\n",
       "      <th rowspan=\"5\" valign=\"top\">fasttext</th>\n",
       "      <th rowspan=\"5\" valign=\"top\">3.0</th>\n",
       "      <th rowspan=\"5\" valign=\"top\">default</th>\n",
       "      <th rowspan=\"2\" valign=\"top\">0.1</th>\n",
       "      <th>False</th>\n",
       "      <td>1.0</td>\n",
       "      <td>1.0</td>\n",
       "      <td>1.0</td>\n",
       "      <td>1.0</td>\n",
       "      <td>1.0</td>\n",
       "    </tr>\n",
       "    <tr>\n",
       "      <th>True</th>\n",
       "      <td>1.0</td>\n",
       "      <td>1.0</td>\n",
       "      <td>1.0</td>\n",
       "      <td>1.0</td>\n",
       "      <td>1.0</td>\n",
       "    </tr>\n",
       "    <tr>\n",
       "      <th rowspan=\"2\" valign=\"top\">0.15</th>\n",
       "      <th>False</th>\n",
       "      <td>1.0</td>\n",
       "      <td>1.0</td>\n",
       "      <td>1.0</td>\n",
       "      <td>1.0</td>\n",
       "      <td>1.0</td>\n",
       "    </tr>\n",
       "    <tr>\n",
       "      <th>True</th>\n",
       "      <td>1.0</td>\n",
       "      <td>1.0</td>\n",
       "      <td>1.0</td>\n",
       "      <td>1.0</td>\n",
       "      <td>1.0</td>\n",
       "    </tr>\n",
       "    <tr>\n",
       "      <th>0.2</th>\n",
       "      <th>False</th>\n",
       "      <td>1.0</td>\n",
       "      <td>1.0</td>\n",
       "      <td>1.0</td>\n",
       "      <td>1.0</td>\n",
       "      <td>1.0</td>\n",
       "    </tr>\n",
       "    <tr>\n",
       "      <th>...</th>\n",
       "      <th>...</th>\n",
       "      <th>...</th>\n",
       "      <th>...</th>\n",
       "      <th>...</th>\n",
       "      <td>...</td>\n",
       "      <td>...</td>\n",
       "      <td>...</td>\n",
       "      <td>...</td>\n",
       "      <td>...</td>\n",
       "    </tr>\n",
       "    <tr>\n",
       "      <th rowspan=\"5\" valign=\"top\">sentbert</th>\n",
       "      <th rowspan=\"5\" valign=\"top\">4.0</th>\n",
       "      <th rowspan=\"5\" valign=\"top\">ticket</th>\n",
       "      <th>0.15</th>\n",
       "      <th>True</th>\n",
       "      <td>1.0</td>\n",
       "      <td>NaN</td>\n",
       "      <td>NaN</td>\n",
       "      <td>NaN</td>\n",
       "      <td>1.0</td>\n",
       "    </tr>\n",
       "    <tr>\n",
       "      <th rowspan=\"2\" valign=\"top\">0.2</th>\n",
       "      <th>False</th>\n",
       "      <td>1.0</td>\n",
       "      <td>1.0</td>\n",
       "      <td>1.0</td>\n",
       "      <td>1.0</td>\n",
       "      <td>1.0</td>\n",
       "    </tr>\n",
       "    <tr>\n",
       "      <th>True</th>\n",
       "      <td>1.0</td>\n",
       "      <td>NaN</td>\n",
       "      <td>NaN</td>\n",
       "      <td>NaN</td>\n",
       "      <td>1.0</td>\n",
       "    </tr>\n",
       "    <tr>\n",
       "      <th rowspan=\"2\" valign=\"top\">None</th>\n",
       "      <th>False</th>\n",
       "      <td>1.0</td>\n",
       "      <td>1.0</td>\n",
       "      <td>1.0</td>\n",
       "      <td>1.0</td>\n",
       "      <td>1.0</td>\n",
       "    </tr>\n",
       "    <tr>\n",
       "      <th>True</th>\n",
       "      <td>1.0</td>\n",
       "      <td>NaN</td>\n",
       "      <td>NaN</td>\n",
       "      <td>NaN</td>\n",
       "      <td>1.0</td>\n",
       "    </tr>\n",
       "  </tbody>\n",
       "</table>\n",
       "<p>64 rows × 5 columns</p>\n",
       "</div>"
      ],
      "text/plain": [
       "max_overlap_percent                                                             1  \\\n",
       "embedding num_embedding_passes fe_type max_features_frac with_negative_label        \n",
       "fasttext  3.0                  default 0.1               False                1.0   \n",
       "                                                         True                 1.0   \n",
       "                                       0.15              False                1.0   \n",
       "                                                         True                 1.0   \n",
       "                                       0.2               False                1.0   \n",
       "...                                                                           ...   \n",
       "sentbert  4.0                  ticket  0.15              True                 1.0   \n",
       "                                       0.2               False                1.0   \n",
       "                                                         True                 1.0   \n",
       "                                       None              False                1.0   \n",
       "                                                         True                 1.0   \n",
       "\n",
       "max_overlap_percent                                                             2  \\\n",
       "embedding num_embedding_passes fe_type max_features_frac with_negative_label        \n",
       "fasttext  3.0                  default 0.1               False                1.0   \n",
       "                                                         True                 1.0   \n",
       "                                       0.15              False                1.0   \n",
       "                                                         True                 1.0   \n",
       "                                       0.2               False                1.0   \n",
       "...                                                                           ...   \n",
       "sentbert  4.0                  ticket  0.15              True                 NaN   \n",
       "                                       0.2               False                1.0   \n",
       "                                                         True                 NaN   \n",
       "                                       None              False                1.0   \n",
       "                                                         True                 NaN   \n",
       "\n",
       "max_overlap_percent                                                             3  \\\n",
       "embedding num_embedding_passes fe_type max_features_frac with_negative_label        \n",
       "fasttext  3.0                  default 0.1               False                1.0   \n",
       "                                                         True                 1.0   \n",
       "                                       0.15              False                1.0   \n",
       "                                                         True                 1.0   \n",
       "                                       0.2               False                1.0   \n",
       "...                                                                           ...   \n",
       "sentbert  4.0                  ticket  0.15              True                 NaN   \n",
       "                                       0.2               False                1.0   \n",
       "                                                         True                 NaN   \n",
       "                                       None              False                1.0   \n",
       "                                                         True                 NaN   \n",
       "\n",
       "max_overlap_percent                                                             4  \\\n",
       "embedding num_embedding_passes fe_type max_features_frac with_negative_label        \n",
       "fasttext  3.0                  default 0.1               False                1.0   \n",
       "                                                         True                 1.0   \n",
       "                                       0.15              False                1.0   \n",
       "                                                         True                 1.0   \n",
       "                                       0.2               False                1.0   \n",
       "...                                                                           ...   \n",
       "sentbert  4.0                  ticket  0.15              True                 NaN   \n",
       "                                       0.2               False                1.0   \n",
       "                                                         True                 NaN   \n",
       "                                       None              False                1.0   \n",
       "                                                         True                 NaN   \n",
       "\n",
       "max_overlap_percent                                                           None  \n",
       "embedding num_embedding_passes fe_type max_features_frac with_negative_label        \n",
       "fasttext  3.0                  default 0.1               False                 1.0  \n",
       "                                                         True                  1.0  \n",
       "                                       0.15              False                 1.0  \n",
       "                                                         True                  1.0  \n",
       "                                       0.2               False                 1.0  \n",
       "...                                                                            ...  \n",
       "sentbert  4.0                  ticket  0.15              True                  1.0  \n",
       "                                       0.2               False                 1.0  \n",
       "                                                         True                  1.0  \n",
       "                                       None              False                 1.0  \n",
       "                                                         True                  1.0  \n",
       "\n",
       "[64 rows x 5 columns]"
      ]
     },
     "execution_count": 87,
     "metadata": {},
     "output_type": "execute_result"
    }
   ],
   "source": [
    "selected_col = input_col.copy()\n",
    "selected_col.remove('max_overlap_percent')\n",
    "selected_col.append('max_overlap_percent')\n",
    "df.groupby(selected_col).count()['absent_features/labels'].unstack()\n"
   ]
  },
  {
   "cell_type": "code",
   "execution_count": 89,
   "metadata": {},
   "outputs": [
    {
     "data": {
      "text/plain": [
       "Index(['fasttext', 'sentbert'], dtype='object', name='embedding')"
      ]
     },
     "execution_count": 89,
     "metadata": {},
     "output_type": "execute_result"
    }
   ],
   "source": [
    "grp.columns"
   ]
  },
  {
   "cell_type": "code",
   "execution_count": 90,
   "metadata": {},
   "outputs": [
    {
     "data": {
      "text/plain": [
       "Index(['1', '2', '3', '4', 'None'], dtype='object', name='max_overlap_percent')"
      ]
     },
     "execution_count": 90,
     "metadata": {},
     "output_type": "execute_result"
    }
   ],
   "source": [
    "df.groupby(selected_col).count()['absent_features/labels'].unstack().columns"
   ]
  },
  {
   "cell_type": "code",
   "execution_count": 98,
   "metadata": {},
   "outputs": [
    {
     "data": {
      "text/html": [
       "<div>\n",
       "<style scoped>\n",
       "    .dataframe tbody tr th:only-of-type {\n",
       "        vertical-align: middle;\n",
       "    }\n",
       "\n",
       "    .dataframe tbody tr th {\n",
       "        vertical-align: top;\n",
       "    }\n",
       "\n",
       "    .dataframe thead th {\n",
       "        text-align: right;\n",
       "    }\n",
       "</style>\n",
       "<table border=\"1\" class=\"dataframe\">\n",
       "  <thead>\n",
       "    <tr style=\"text-align: right;\">\n",
       "      <th></th>\n",
       "      <th>embedding</th>\n",
       "      <th>num_embedding_passes</th>\n",
       "      <th>fe_type</th>\n",
       "      <th>max_features_frac</th>\n",
       "      <th>max_overlap_percent</th>\n",
       "      <th>with_negative_label</th>\n",
       "      <th>absent_features/labels</th>\n",
       "      <th>absent_features/selected_labels</th>\n",
       "      <th>assigned_doc_percent</th>\n",
       "    </tr>\n",
       "  </thead>\n",
       "  <tbody>\n",
       "    <tr>\n",
       "      <th>267</th>\n",
       "      <td>None</td>\n",
       "      <td>None</td>\n",
       "      <td>default</td>\n",
       "      <td>0.2</td>\n",
       "      <td>4</td>\n",
       "      <td>True</td>\n",
       "      <td>31.8393</td>\n",
       "      <td>31.8393</td>\n",
       "      <td>68.161</td>\n",
       "    </tr>\n",
       "    <tr>\n",
       "      <th>268</th>\n",
       "      <td>None</td>\n",
       "      <td>None</td>\n",
       "      <td>default</td>\n",
       "      <td>0.15</td>\n",
       "      <td>4</td>\n",
       "      <td>True</td>\n",
       "      <td>31.8393</td>\n",
       "      <td>31.8393</td>\n",
       "      <td>68.161</td>\n",
       "    </tr>\n",
       "    <tr>\n",
       "      <th>269</th>\n",
       "      <td>None</td>\n",
       "      <td>None</td>\n",
       "      <td>default</td>\n",
       "      <td>0.1</td>\n",
       "      <td>4</td>\n",
       "      <td>True</td>\n",
       "      <td>31.8393</td>\n",
       "      <td>31.8393</td>\n",
       "      <td>68.161</td>\n",
       "    </tr>\n",
       "    <tr>\n",
       "      <th>270</th>\n",
       "      <td>None</td>\n",
       "      <td>None</td>\n",
       "      <td>default</td>\n",
       "      <td>None</td>\n",
       "      <td>4</td>\n",
       "      <td>True</td>\n",
       "      <td>31.8393</td>\n",
       "      <td>31.8393</td>\n",
       "      <td>68.161</td>\n",
       "    </tr>\n",
       "    <tr>\n",
       "      <th>271</th>\n",
       "      <td>None</td>\n",
       "      <td>None</td>\n",
       "      <td>default</td>\n",
       "      <td>0.2</td>\n",
       "      <td>3</td>\n",
       "      <td>True</td>\n",
       "      <td>31.8393</td>\n",
       "      <td>31.8393</td>\n",
       "      <td>68.161</td>\n",
       "    </tr>\n",
       "    <tr>\n",
       "      <th>...</th>\n",
       "      <td>...</td>\n",
       "      <td>...</td>\n",
       "      <td>...</td>\n",
       "      <td>...</td>\n",
       "      <td>...</td>\n",
       "      <td>...</td>\n",
       "      <td>...</td>\n",
       "      <td>...</td>\n",
       "      <td>...</td>\n",
       "    </tr>\n",
       "    <tr>\n",
       "      <th>342</th>\n",
       "      <td>None</td>\n",
       "      <td>None</td>\n",
       "      <td>ticket</td>\n",
       "      <td>None</td>\n",
       "      <td>1</td>\n",
       "      <td>False</td>\n",
       "      <td>32.7524</td>\n",
       "      <td>33.2137</td>\n",
       "      <td>66.786</td>\n",
       "    </tr>\n",
       "    <tr>\n",
       "      <th>343</th>\n",
       "      <td>None</td>\n",
       "      <td>None</td>\n",
       "      <td>ticket</td>\n",
       "      <td>0.2</td>\n",
       "      <td>None</td>\n",
       "      <td>False</td>\n",
       "      <td>32.7524</td>\n",
       "      <td>33.2137</td>\n",
       "      <td>66.786</td>\n",
       "    </tr>\n",
       "    <tr>\n",
       "      <th>344</th>\n",
       "      <td>None</td>\n",
       "      <td>None</td>\n",
       "      <td>ticket</td>\n",
       "      <td>0.15</td>\n",
       "      <td>None</td>\n",
       "      <td>False</td>\n",
       "      <td>32.7524</td>\n",
       "      <td>33.2137</td>\n",
       "      <td>66.786</td>\n",
       "    </tr>\n",
       "    <tr>\n",
       "      <th>345</th>\n",
       "      <td>None</td>\n",
       "      <td>None</td>\n",
       "      <td>ticket</td>\n",
       "      <td>0.1</td>\n",
       "      <td>None</td>\n",
       "      <td>False</td>\n",
       "      <td>32.7524</td>\n",
       "      <td>33.2137</td>\n",
       "      <td>66.786</td>\n",
       "    </tr>\n",
       "    <tr>\n",
       "      <th>346</th>\n",
       "      <td>None</td>\n",
       "      <td>None</td>\n",
       "      <td>ticket</td>\n",
       "      <td>None</td>\n",
       "      <td>None</td>\n",
       "      <td>False</td>\n",
       "      <td>32.7524</td>\n",
       "      <td>33.2137</td>\n",
       "      <td>66.786</td>\n",
       "    </tr>\n",
       "  </tbody>\n",
       "</table>\n",
       "<p>80 rows × 9 columns</p>\n",
       "</div>"
      ],
      "text/plain": [
       "    embedding num_embedding_passes  fe_type max_features_frac  \\\n",
       "267      None                 None  default               0.2   \n",
       "268      None                 None  default              0.15   \n",
       "269      None                 None  default               0.1   \n",
       "270      None                 None  default              None   \n",
       "271      None                 None  default               0.2   \n",
       "..        ...                  ...      ...               ...   \n",
       "342      None                 None   ticket              None   \n",
       "343      None                 None   ticket               0.2   \n",
       "344      None                 None   ticket              0.15   \n",
       "345      None                 None   ticket               0.1   \n",
       "346      None                 None   ticket              None   \n",
       "\n",
       "    max_overlap_percent  with_negative_label  absent_features/labels  \\\n",
       "267                   4                 True                 31.8393   \n",
       "268                   4                 True                 31.8393   \n",
       "269                   4                 True                 31.8393   \n",
       "270                   4                 True                 31.8393   \n",
       "271                   3                 True                 31.8393   \n",
       "..                  ...                  ...                     ...   \n",
       "342                   1                False                 32.7524   \n",
       "343                None                False                 32.7524   \n",
       "344                None                False                 32.7524   \n",
       "345                None                False                 32.7524   \n",
       "346                None                False                 32.7524   \n",
       "\n",
       "     absent_features/selected_labels  assigned_doc_percent  \n",
       "267                          31.8393                68.161  \n",
       "268                          31.8393                68.161  \n",
       "269                          31.8393                68.161  \n",
       "270                          31.8393                68.161  \n",
       "271                          31.8393                68.161  \n",
       "..                               ...                   ...  \n",
       "342                          33.2137                66.786  \n",
       "343                          33.2137                66.786  \n",
       "344                          33.2137                66.786  \n",
       "345                          33.2137                66.786  \n",
       "346                          33.2137                66.786  \n",
       "\n",
       "[80 rows x 9 columns]"
      ]
     },
     "execution_count": 98,
     "metadata": {},
     "output_type": "execute_result"
    }
   ],
   "source": [
    "df[df.embedding=='None'][input_col+feat_pred_cols]"
   ]
  },
  {
   "cell_type": "code",
   "execution_count": 99,
   "metadata": {},
   "outputs": [
    {
     "data": {
      "text/plain": [
       "embedding  num_embedding_passes  fe_type  max_features_frac  max_overlap_percent  with_negative_label\n",
       "None       None                  default  0.1                1                    False                  31.8393\n",
       "                                                                                  True                   31.8393\n",
       "                                                             2                    False                  31.8393\n",
       "                                                                                  True                   31.8393\n",
       "                                                             3                    False                  31.8393\n",
       "                                                                                                          ...   \n",
       "sentbert   4.0                   ticket   None               2                    False                   5.5356\n",
       "                                                             3                    False                   5.5356\n",
       "                                                             4                    False                   5.5356\n",
       "                                                             None                 False                   5.5356\n",
       "                                                                                  True                    5.5356\n",
       "Name: absent_features/labels, Length: 375, dtype: float64"
      ]
     },
     "execution_count": 99,
     "metadata": {},
     "output_type": "execute_result"
    }
   ],
   "source": [
    "df.groupby(input_col)['absent_features/labels'].max()"
   ]
  },
  {
   "cell_type": "code",
   "execution_count": null,
   "metadata": {},
   "outputs": [],
   "source": []
  },
  {
   "cell_type": "code",
   "execution_count": null,
   "metadata": {},
   "outputs": [],
   "source": []
  },
  {
   "cell_type": "code",
   "execution_count": 29,
   "metadata": {},
   "outputs": [
    {
     "data": {
      "text/plain": [
       "array([['sentbert', 'ticket', 'None', '16', '2', 10000, 10000, 3.0, 2,\n",
       "        5203, 5190, 1951, 15203, 15190, False, 7.6884, 9.4311, 82.9968,\n",
       "        82.8506, 90.569, 790, 987, 963, 785.0, 868.0, 78.9444, 78.785,\n",
       "        3224, -1, 68.6667, 70.1087, 31.3333, 29.8913, 7.6884, 9.4311,\n",
       "        100.0, 90.569, 68.5044, 68.2325, 93.1386, 93.1985, 119, 150,\n",
       "        77.72, 77.48, 9.431060994361866],\n",
       "       ['sentbert', 'ticket', 'None', '21', '2', 10000, 10000, 4.0, 2,\n",
       "        3588, 3583, 1951, 13588, 13583, False, 5.5356, 7.9959, 81.9841,\n",
       "        81.7124, 92.00399999999999, 1003, 1168, 1125, 863.0, 193.0,\n",
       "        73.5065, 73.1923, 3224, -1, 65.7407, 67.9487, 34.2593, 32.0513,\n",
       "        5.5356, 7.9959, 100.0, 92.00399999999999, 60.0849, 59.6692,\n",
       "        94.6488, 94.6414, 137, 108, 77.44, 77.08, 7.995899538698103]],\n",
       "      dtype=object)"
      ]
     },
     "execution_count": 29,
     "metadata": {},
     "output_type": "execute_result"
    }
   ],
   "source": [
    "df[(df.embedding=='sentbert') & (df.fe_type=='ticket') & (df.max_features_frac=='None') & (df.max_overlap_percent=='2')].values"
   ]
  },
  {
   "cell_type": "code",
   "execution_count": 19,
   "metadata": {},
   "outputs": [
    {
     "data": {
      "text/plain": [
       "array(['0.2', '0.15', '0.1', 'None'], dtype=object)"
      ]
     },
     "execution_count": 19,
     "metadata": {},
     "output_type": "execute_result"
    }
   ],
   "source": [
    "df.max_features_frac.unique()"
   ]
  },
  {
   "cell_type": "code",
   "execution_count": null,
   "metadata": {},
   "outputs": [],
   "source": []
  }
 ],
 "metadata": {
  "kernelspec": {
   "display_name": "Python 3",
   "language": "python",
   "name": "python3"
  },
  "language_info": {
   "codemirror_mode": {
    "name": "ipython",
    "version": 3
   },
   "file_extension": ".py",
   "mimetype": "text/x-python",
   "name": "python",
   "nbconvert_exporter": "python",
   "pygments_lexer": "ipython3",
   "version": "3.7.6"
  }
 },
 "nbformat": 4,
 "nbformat_minor": 4
}
